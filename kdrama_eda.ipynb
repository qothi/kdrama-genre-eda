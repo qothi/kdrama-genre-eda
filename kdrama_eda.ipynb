{
 "cells": [
  {
   "cell_type": "markdown",
   "metadata": {},
   "source": [
    "# K-Drama Genre, Ratings, and Viewer Count Correlation Analysis\n",
    "\n",
    "Data Visualization: https://public.tableau.com/views/K-DramaGenreRatingsandViewerCount/Dashboard1?:language=en-US&:display_count=n&:origin=viz_share_link\n",
    "\n",
    "Data Stats: https://public.tableau.com/views/K-DramaGenreRatingsandViewerCountDataStats/Dashboard2?:language=en-US&:display_count=n&:origin=viz_share_link"
   ]
  },
  {
   "cell_type": "markdown",
   "metadata": {},
   "source": [
    "## Problem Statement"
   ]
  },
  {
   "cell_type": "markdown",
   "metadata": {},
   "source": [
    "### Preface\n",
    "\n",
    "Serial televisi Korea Selatan, atau yang biasa disebut K-Drama, bertumbuh sangat pesat beberapa tahun terakhir. Akibat popularitas seri Squid Game pada 2021 lalu, ekspor K-Drama meningkat sebesar 72% dalam beberapa tahun terakhir (Statista,2023) dan production house memproduksi 50% lebih banyak dalam 3 tahun terakhir, di mana pada tahun 2022 sudah ada lebih dari 125 judul K-Drama yang dirilis (Bloomberg,2023).\n",
    "\n",
    "Dengan tren penurunan subscriber over-the-top media service (OTT) sekali pun, setiap OTT berlomba-lomba merilis K-Drama eksklusif yang tayang di OTT tersebut atau pun menayangkan K-Drama yang sedang laris di Korea Selatan, sebut saja Mask Girl di Netflix, Moving di Disney+ Hotstar, dan Killing Vote di Amazon Prime Video. Untuk menentukan drama seperti apa yang cocok untuk diproduksi, atau drama mana saja yang cocok untuk ditambahkan dalam katalog suatu OTT, maka perlu dianalisa drama seperti apa yang disukai oleh penonton OTT tersebut."
   ]
  },
  {
   "cell_type": "markdown",
   "metadata": {},
   "source": [
    "### Data Source and Limitations\n",
    "\n",
    "Untuk mengetahui drama seperti apa yang disukai oleh penonton, digunakan public dataset dari Kaggle \"Korean Drama Dominance vs. Thai and Japanese Drama\" ('https://www.kaggle.com/datasets/chanoncharuchinda/thai-and-japanese-drama-vs-korean-drama-dominance') di mana data ini berasal dari hasil scraping web MyDramaList, yaitu website untuk memberikan rating dan review untuk drama dari berbagai negara, termasuk K-Drama. Data K-Drama dalam dataset ini mencakup K-Drama yang tayang dari Januari 2015 sampai dengan September 2023.\n",
    "\n",
    "Dalam suatu produksi K-Drama maupun produksi serial dan film apapun, terdapat banyak atribut seperti aktor atau pemain, sutradara, penulis skrip, genre, dsb. Untuk mengetahui K-Drama seperti apa yang disukai oleh penonton, digunakan hanya atribut genre apa yang disukai oleh penonton. Sementara untuk mengukur seberapa disukai suatu drama juga memiliki banyak cara untuk mengukurnya. Dalam project ini, suatu drama akan diukur seberapa disukainya dari rating yang diberikan oleh user MyDramaList dan berapa banyak user MyDramaList yang menonton drama tersebut.\n",
    "\n",
    "Karena data diambil hanya dari web MyDramaList, maka jumlah penonton dari setiap K-Drama bukan keseluruhan penonton dari K-Drama tersebut, namun hanya user MyDramaList yang menonton K-Drama tersebut. Begitu juga rating dan review yang diberikan hanya rating yang diberikan di dalam web MyDramaList. Namun diasumsikan data yang dimiliki oleh MyDramaList cukup untuk menjadi sampel dari keseluruhan data mengenai K-Drama tersebut."
   ]
  },
  {
   "cell_type": "markdown",
   "metadata": {},
   "source": [
    "### Defining the Problem/Goal Using SMART Framework\n",
    "\n",
    "Dari penjabaran di atas, maka dapat dirumuskan SMART dari permasalahan atau tujuan yang ingin dicapai, yaitu mengetahui K-Drama apa yang disukai oleh penonton. SMART Framework dari tujuan tersebut adalah:\n",
    "\n",
    "**Specific**: Mengetahui genre K-Drama apa yang memiliki penonton paling banyak dan memiliki rating paling bagus pada web MyDramaList.\n",
    "\n",
    "**Measurable**: OTT dapat memilih atau memproduksi drama yang memiliki jumlah penonton yang banyak dan rating yang tinggi, misalnya minimal memiliki rating 8.0/10.0 pada web MyDramaList.\n",
    "\n",
    "**Achievable**: Melakukan analisis data yang didapatkan dari website MyDramaList untuk mengetahui genre \n",
    "K-Drama yang memiliki penonton yang banyak dan rating lebih dari 8.0.\n",
    "\n",
    "**Relevant**: Menentukan K-Drama apa yang ingin ditayangkan di suatu OTT dengan tepat dapat meningkatkan jumlah penonton dari OTT tersebut yang nantinya dapat meningkatkan jumlah subscriber OTT tersebut.\n",
    "\n",
    "**Time-bound**: Insight dari project ini dapat digunakan untuk menentukan drama seperti apa yang ingin \n",
    "ditayangkan pada Q4 2023, Q1 2024, hingga Q2 2024.\n",
    "\n",
    "Maka, dari SMART Framework di atas dapat dirumuskan problem statement dari project ini yaitu manakah genre K-Drama yang memiliki penonton paling banyak dan rating paling tinggi, di mana rating diharapkan di atas 8.0 per 10.0."
   ]
  },
  {
   "cell_type": "markdown",
   "metadata": {},
   "source": [
    "### Detailing the SMART Framework: Asking 5W+1H Questions\n",
    "\n",
    "Untuk merinci lebih jauh apa saja yang ingin diketahui atau dianalisa pada bagian selanjutnya, maka dibuat daftar pertanyaan yang dapat merinci SMART Framework yang terlah dikemukakan dan dapat dijawab pada bagian analisa data selanjutnya. Pertanyaan yang dapat membantu menjawab permasalahan atau tujuan dalam project ini antara lain:\n",
    "\n",
    "1. Apa saja genre K-Drama yang tayang pada tahun 2015 sampai dengan 2023 dan bagaimana distribusi jumlah drama di antara genre tersebut?\n",
    "2. Bagaimana distribusi rating yang diberikan user MyDramaList pada suatu K-Drama, baik secara keseluruhan maupun menurut masing-masing genre?\n",
    "3. Bagaimana distribusi jumlah user MyDramaList yang menonton suatu K-Drama, baik secara keseluruhan maupun menurut masing-masing genre?\n",
    "4. Seberapa sering suatu genre K-Drama ditonton oleh user MyDramaList?\n",
    "5. Seberapa tinggi suatu genre K-Drama dinilai/diberikan rating oleh user MyDramaList?\n",
    "6. Apakah ada korelasi antara rating yang diberikan kepada suatu K-Drama dengan seberapa banyak orang yang menonton K-Drama tersebut? Jika ada, bagaimana korelasinya?\n",
    "7. Apakah ada perbedaan rating yang signifikan antara K-Drama dari berbagai genre?\n",
    "8. Apakah ada perbedaan jumlah penonton yang signifikan antara K-Drama dari berbagai genre?\n",
    "9. Menurut rating dan jumlah penontonnya, genre apakah yang paling disukai oleh user MyDramaList?"
   ]
  },
  {
   "cell_type": "markdown",
   "metadata": {},
   "source": [
    "## Data Loading"
   ]
  },
  {
   "cell_type": "code",
   "execution_count": 1,
   "metadata": {},
   "outputs": [
    {
     "data": {
      "text/html": [
       "<div>\n",
       "<style scoped>\n",
       "    .dataframe tbody tr th:only-of-type {\n",
       "        vertical-align: middle;\n",
       "    }\n",
       "\n",
       "    .dataframe tbody tr th {\n",
       "        vertical-align: top;\n",
       "    }\n",
       "\n",
       "    .dataframe thead th {\n",
       "        text-align: right;\n",
       "    }\n",
       "</style>\n",
       "<table border=\"1\" class=\"dataframe\">\n",
       "  <thead>\n",
       "    <tr style=\"text-align: right;\">\n",
       "      <th></th>\n",
       "      <th>drama_id</th>\n",
       "      <th>drama_name</th>\n",
       "      <th>native_name</th>\n",
       "      <th>year</th>\n",
       "      <th>synopsis</th>\n",
       "      <th>genres</th>\n",
       "      <th>tags</th>\n",
       "      <th>director</th>\n",
       "      <th>sc_writer</th>\n",
       "      <th>country</th>\n",
       "      <th>...</th>\n",
       "      <th>start_dt</th>\n",
       "      <th>end_dt</th>\n",
       "      <th>aired_on</th>\n",
       "      <th>org_net</th>\n",
       "      <th>tot_user_score</th>\n",
       "      <th>tot_num_user</th>\n",
       "      <th>tot_watched</th>\n",
       "      <th>content_rt</th>\n",
       "      <th>rank</th>\n",
       "      <th>popularity</th>\n",
       "    </tr>\n",
       "  </thead>\n",
       "  <tbody>\n",
       "    <tr>\n",
       "      <th>0</th>\n",
       "      <td>a88aff33194c3804d091a0962cb318f009c4734fd6c3f1...</td>\n",
       "      <td>Mask Girl</td>\n",
       "      <td>마스크걸</td>\n",
       "      <td>2023</td>\n",
       "      <td>Kim Mo Mi is an ordinary office woman with a s...</td>\n",
       "      <td>Thriller,  Mystery,  Comedy,  Drama</td>\n",
       "      <td>Noir, Revenge, Suspense, Inferiority Complex, ...</td>\n",
       "      <td>NaN</td>\n",
       "      <td>NaN</td>\n",
       "      <td>South Korea</td>\n",
       "      <td>...</td>\n",
       "      <td>2023-08-18</td>\n",
       "      <td>2023-08-18</td>\n",
       "      <td>Friday</td>\n",
       "      <td>Netflix</td>\n",
       "      <td>7.9</td>\n",
       "      <td>5814.0</td>\n",
       "      <td>13098</td>\n",
       "      <td>18+ Restricted (violence &amp; profanity)</td>\n",
       "      <td>2940</td>\n",
       "      <td>1052</td>\n",
       "    </tr>\n",
       "    <tr>\n",
       "      <th>1</th>\n",
       "      <td>c40001209622c610cb93d1a452fbdbaac4221c2c07e038...</td>\n",
       "      <td>Better Things</td>\n",
       "      <td>Better Things</td>\n",
       "      <td>2023</td>\n",
       "      <td>Comprised of 3 episodes, the sitcom follows th...</td>\n",
       "      <td>Sitcom</td>\n",
       "      <td>Short Length Series, Miniseries, Web Series</td>\n",
       "      <td>NaN</td>\n",
       "      <td>NaN</td>\n",
       "      <td>South Korea</td>\n",
       "      <td>...</td>\n",
       "      <td>2023-08-07</td>\n",
       "      <td>2023-08-11</td>\n",
       "      <td>Monday, Wednesday, Friday</td>\n",
       "      <td>NaN</td>\n",
       "      <td>8.0</td>\n",
       "      <td>16.0</td>\n",
       "      <td>44</td>\n",
       "      <td>Not Yet Rated</td>\n",
       "      <td>42186</td>\n",
       "      <td>99999</td>\n",
       "    </tr>\n",
       "    <tr>\n",
       "      <th>2</th>\n",
       "      <td>b7dd543d9b210dc0bb76dea6b9d9f0f12c3f8a6a9ea5fc...</td>\n",
       "      <td>My Dearest</td>\n",
       "      <td>연인</td>\n",
       "      <td>2023</td>\n",
       "      <td>A love-story between a noblewoman and a myster...</td>\n",
       "      <td>Historical,  Romance,  Drama,  Melodrama</td>\n",
       "      <td>Joseon Dynasty, Qing Invasion Of Joseon, Histo...</td>\n",
       "      <td>['Kim Sung Yong', 'Lee Han Joon']</td>\n",
       "      <td>['Hwang Jin Young']</td>\n",
       "      <td>South Korea</td>\n",
       "      <td>...</td>\n",
       "      <td>2023-08-04</td>\n",
       "      <td>2023-09-02</td>\n",
       "      <td>Friday, Saturday</td>\n",
       "      <td>MBC</td>\n",
       "      <td>8.7</td>\n",
       "      <td>1680.0</td>\n",
       "      <td>8523</td>\n",
       "      <td>15+ - Teens 15 or older</td>\n",
       "      <td>187</td>\n",
       "      <td>1584</td>\n",
       "    </tr>\n",
       "    <tr>\n",
       "      <th>3</th>\n",
       "      <td>d3430eca6f6bcbe87ec5ddf0ebe3e8e8103a6f692611c3...</td>\n",
       "      <td>Sing My Crush</td>\n",
       "      <td>따라바람</td>\n",
       "      <td>2023</td>\n",
       "      <td>After a disastrous first encounter between Ba ...</td>\n",
       "      <td>Music,  Comedy,  Romance,  Youth</td>\n",
       "      <td>LGBTQ+, Band, High School To Working Life, Gui...</td>\n",
       "      <td>['So Joon Moon']</td>\n",
       "      <td>NaN</td>\n",
       "      <td>South Korea</td>\n",
       "      <td>...</td>\n",
       "      <td>2023-08-02</td>\n",
       "      <td>2023-08-02</td>\n",
       "      <td>Wednesday</td>\n",
       "      <td>NaN</td>\n",
       "      <td>8.1</td>\n",
       "      <td>3613.0</td>\n",
       "      <td>8224</td>\n",
       "      <td>Not Yet Rated</td>\n",
       "      <td>1885</td>\n",
       "      <td>1628</td>\n",
       "    </tr>\n",
       "    <tr>\n",
       "      <th>4</th>\n",
       "      <td>cce259e20612fd4f91b0eedebee3010286d87d27df971e...</td>\n",
       "      <td>The Uncanny Counter Season 2: Counter Punch</td>\n",
       "      <td>카운터 펀치</td>\n",
       "      <td>2023</td>\n",
       "      <td>Evil spirits from the afterlife arrive on Eart...</td>\n",
       "      <td>Action,  Mystery,  Comedy,  Supernatural</td>\n",
       "      <td>Dark Fantasy, Fantasy, Evil Spirit, Drama, Fri...</td>\n",
       "      <td>['Yoo Seon Dong']</td>\n",
       "      <td>['Kim Sae Bom', 'Yeo Ji Na']</td>\n",
       "      <td>South Korea</td>\n",
       "      <td>...</td>\n",
       "      <td>2023-07-29</td>\n",
       "      <td>2023-09-03</td>\n",
       "      <td>Saturday, Sunday</td>\n",
       "      <td>Netflix OCN tvN</td>\n",
       "      <td>8.5</td>\n",
       "      <td>5542.0</td>\n",
       "      <td>27408</td>\n",
       "      <td>15+ - Teens 15 or older</td>\n",
       "      <td>571</td>\n",
       "      <td>420</td>\n",
       "    </tr>\n",
       "    <tr>\n",
       "      <th>...</th>\n",
       "      <td>...</td>\n",
       "      <td>...</td>\n",
       "      <td>...</td>\n",
       "      <td>...</td>\n",
       "      <td>...</td>\n",
       "      <td>...</td>\n",
       "      <td>...</td>\n",
       "      <td>...</td>\n",
       "      <td>...</td>\n",
       "      <td>...</td>\n",
       "      <td>...</td>\n",
       "      <td>...</td>\n",
       "      <td>...</td>\n",
       "      <td>...</td>\n",
       "      <td>...</td>\n",
       "      <td>...</td>\n",
       "      <td>...</td>\n",
       "      <td>...</td>\n",
       "      <td>...</td>\n",
       "      <td>...</td>\n",
       "      <td>...</td>\n",
       "    </tr>\n",
       "    <tr>\n",
       "      <th>1768</th>\n",
       "      <td>15de78e73121d910bd16542a1b33a9e29ec27ce4f17d94...</td>\n",
       "      <td>Heart to Heart</td>\n",
       "      <td>하트 투 하트</td>\n",
       "      <td>2015</td>\n",
       "      <td>Cha Hong Do suffers from social phobia and has...</td>\n",
       "      <td>Psychological,  Comedy,  Romance</td>\n",
       "      <td>Trauma, Shy Female Lead, Mental Illness, Heali...</td>\n",
       "      <td>['Lee Yoon Jung']</td>\n",
       "      <td>['Lee Jung Ah']</td>\n",
       "      <td>South Korea</td>\n",
       "      <td>...</td>\n",
       "      <td>2015-01-09</td>\n",
       "      <td>2015-03-07</td>\n",
       "      <td>Friday, Saturday</td>\n",
       "      <td>tvN</td>\n",
       "      <td>7.9</td>\n",
       "      <td>5911.0</td>\n",
       "      <td>14441</td>\n",
       "      <td>15+ - Teens 15 or older</td>\n",
       "      <td>2842</td>\n",
       "      <td>961</td>\n",
       "    </tr>\n",
       "    <tr>\n",
       "      <th>1769</th>\n",
       "      <td>f7342d1808849e11b76b33242ef213ea45e8b303e7a6fd...</td>\n",
       "      <td>Persevere, Goo Hae Ra</td>\n",
       "      <td>칠전팔기 구해라</td>\n",
       "      <td>2015</td>\n",
       "      <td>Goo Hae Ra, who is an aspiring musician is see...</td>\n",
       "      <td>Music,  Romance,  Youth</td>\n",
       "      <td>Friends To Lovers, Love Triangle, Friendship</td>\n",
       "      <td>['Kim Yong Bum', 'An Joon Young']</td>\n",
       "      <td>['Jung Soo Hyun', 'Shin Myung Jin']</td>\n",
       "      <td>South Korea</td>\n",
       "      <td>...</td>\n",
       "      <td>2015-01-09</td>\n",
       "      <td>2015-03-27</td>\n",
       "      <td>Friday</td>\n",
       "      <td>Mnet</td>\n",
       "      <td>7.2</td>\n",
       "      <td>2438.0</td>\n",
       "      <td>7334</td>\n",
       "      <td>Not Yet Rated</td>\n",
       "      <td>7269</td>\n",
       "      <td>1793</td>\n",
       "    </tr>\n",
       "    <tr>\n",
       "      <th>1770</th>\n",
       "      <td>564fe2f97c7d829bdf5a17820fb8cbe459e9b6966f69d0...</td>\n",
       "      <td>Spy</td>\n",
       "      <td>스파이</td>\n",
       "      <td>2015</td>\n",
       "      <td>Hye Rim is a perfect mom inside and out. She p...</td>\n",
       "      <td>Thriller,  Romance,  Crime,  Political</td>\n",
       "      <td>North Korean Female Lead, Spy Female Lead, Mot...</td>\n",
       "      <td>['Park Hyun Suk']</td>\n",
       "      <td>['Han Sang Woon', 'Lee Kang']</td>\n",
       "      <td>South Korea</td>\n",
       "      <td>...</td>\n",
       "      <td>2015-01-09</td>\n",
       "      <td>2015-03-06</td>\n",
       "      <td>Friday</td>\n",
       "      <td>KBS2</td>\n",
       "      <td>7.2</td>\n",
       "      <td>1599.0</td>\n",
       "      <td>5795</td>\n",
       "      <td>Not Yet Rated</td>\n",
       "      <td>7438</td>\n",
       "      <td>2188</td>\n",
       "    </tr>\n",
       "    <tr>\n",
       "      <th>1771</th>\n",
       "      <td>0517e3c91bbe0cab01844e776fc99914dc091d0fe346e3...</td>\n",
       "      <td>Kill Me, Heal Me</td>\n",
       "      <td>킬미힐미</td>\n",
       "      <td>2015</td>\n",
       "      <td>A traumatic childhood experience leaves Cha Do...</td>\n",
       "      <td>Psychological,  Comedy,  Romance,  Drama</td>\n",
       "      <td>Dissociative Identity Disorder, Trauma, Boss-E...</td>\n",
       "      <td>['Kim Jin Man', 'Kim Dae Jin']</td>\n",
       "      <td>['Jin Soo Wan']</td>\n",
       "      <td>South Korea</td>\n",
       "      <td>...</td>\n",
       "      <td>2015-01-07</td>\n",
       "      <td>2015-03-12</td>\n",
       "      <td>Wednesday, Thursday</td>\n",
       "      <td>MBC</td>\n",
       "      <td>8.7</td>\n",
       "      <td>47984.0</td>\n",
       "      <td>104952</td>\n",
       "      <td>15+ - Teens 15 or older</td>\n",
       "      <td>247</td>\n",
       "      <td>30</td>\n",
       "    </tr>\n",
       "    <tr>\n",
       "      <th>1772</th>\n",
       "      <td>f2ed99f1018d7511b0a2373d9c9b8d406f0369fdece73d...</td>\n",
       "      <td>Enchanting Neighbor</td>\n",
       "      <td>황홀한 이웃</td>\n",
       "      <td>2015</td>\n",
       "      <td>Gong Soo Rae only love her husband, Seo Bong G...</td>\n",
       "      <td>Romance,  Family,  Melodrama</td>\n",
       "      <td>Married Female Lead, Soap Opera, Infidelity, R...</td>\n",
       "      <td>['Park Kyung Ryul']</td>\n",
       "      <td>['Park Hye Ryun']</td>\n",
       "      <td>South Korea</td>\n",
       "      <td>...</td>\n",
       "      <td>2015-01-05</td>\n",
       "      <td>2015-06-22</td>\n",
       "      <td>Monday, Tuesday, Wednesday, Thursday, Friday</td>\n",
       "      <td>SBS</td>\n",
       "      <td>7.5</td>\n",
       "      <td>28.0</td>\n",
       "      <td>483</td>\n",
       "      <td>15+ - Teens 15 or older</td>\n",
       "      <td>75588</td>\n",
       "      <td>11024</td>\n",
       "    </tr>\n",
       "  </tbody>\n",
       "</table>\n",
       "<p>1773 rows × 23 columns</p>\n",
       "</div>"
      ],
      "text/plain": [
       "                                               drama_id  \\\n",
       "0     a88aff33194c3804d091a0962cb318f009c4734fd6c3f1...   \n",
       "1     c40001209622c610cb93d1a452fbdbaac4221c2c07e038...   \n",
       "2     b7dd543d9b210dc0bb76dea6b9d9f0f12c3f8a6a9ea5fc...   \n",
       "3     d3430eca6f6bcbe87ec5ddf0ebe3e8e8103a6f692611c3...   \n",
       "4     cce259e20612fd4f91b0eedebee3010286d87d27df971e...   \n",
       "...                                                 ...   \n",
       "1768  15de78e73121d910bd16542a1b33a9e29ec27ce4f17d94...   \n",
       "1769  f7342d1808849e11b76b33242ef213ea45e8b303e7a6fd...   \n",
       "1770  564fe2f97c7d829bdf5a17820fb8cbe459e9b6966f69d0...   \n",
       "1771  0517e3c91bbe0cab01844e776fc99914dc091d0fe346e3...   \n",
       "1772  f2ed99f1018d7511b0a2373d9c9b8d406f0369fdece73d...   \n",
       "\n",
       "                                       drama_name    native_name  year  \\\n",
       "0                                       Mask Girl           마스크걸  2023   \n",
       "1                                   Better Things  Better Things  2023   \n",
       "2                                      My Dearest             연인  2023   \n",
       "3                                   Sing My Crush           따라바람  2023   \n",
       "4     The Uncanny Counter Season 2: Counter Punch         카운터 펀치  2023   \n",
       "...                                           ...            ...   ...   \n",
       "1768                               Heart to Heart        하트 투 하트  2015   \n",
       "1769                        Persevere, Goo Hae Ra       칠전팔기 구해라  2015   \n",
       "1770                                          Spy            스파이  2015   \n",
       "1771                             Kill Me, Heal Me           킬미힐미  2015   \n",
       "1772                          Enchanting Neighbor         황홀한 이웃  2015   \n",
       "\n",
       "                                               synopsis  \\\n",
       "0     Kim Mo Mi is an ordinary office woman with a s...   \n",
       "1     Comprised of 3 episodes, the sitcom follows th...   \n",
       "2     A love-story between a noblewoman and a myster...   \n",
       "3     After a disastrous first encounter between Ba ...   \n",
       "4     Evil spirits from the afterlife arrive on Eart...   \n",
       "...                                                 ...   \n",
       "1768  Cha Hong Do suffers from social phobia and has...   \n",
       "1769  Goo Hae Ra, who is an aspiring musician is see...   \n",
       "1770  Hye Rim is a perfect mom inside and out. She p...   \n",
       "1771  A traumatic childhood experience leaves Cha Do...   \n",
       "1772  Gong Soo Rae only love her husband, Seo Bong G...   \n",
       "\n",
       "                                        genres  \\\n",
       "0          Thriller,  Mystery,  Comedy,  Drama   \n",
       "1                                       Sitcom   \n",
       "2     Historical,  Romance,  Drama,  Melodrama   \n",
       "3             Music,  Comedy,  Romance,  Youth   \n",
       "4     Action,  Mystery,  Comedy,  Supernatural   \n",
       "...                                        ...   \n",
       "1768          Psychological,  Comedy,  Romance   \n",
       "1769                   Music,  Romance,  Youth   \n",
       "1770    Thriller,  Romance,  Crime,  Political   \n",
       "1771  Psychological,  Comedy,  Romance,  Drama   \n",
       "1772              Romance,  Family,  Melodrama   \n",
       "\n",
       "                                                   tags  \\\n",
       "0     Noir, Revenge, Suspense, Inferiority Complex, ...   \n",
       "1           Short Length Series, Miniseries, Web Series   \n",
       "2     Joseon Dynasty, Qing Invasion Of Joseon, Histo...   \n",
       "3     LGBTQ+, Band, High School To Working Life, Gui...   \n",
       "4     Dark Fantasy, Fantasy, Evil Spirit, Drama, Fri...   \n",
       "...                                                 ...   \n",
       "1768  Trauma, Shy Female Lead, Mental Illness, Heali...   \n",
       "1769       Friends To Lovers, Love Triangle, Friendship   \n",
       "1770  North Korean Female Lead, Spy Female Lead, Mot...   \n",
       "1771  Dissociative Identity Disorder, Trauma, Boss-E...   \n",
       "1772  Married Female Lead, Soap Opera, Infidelity, R...   \n",
       "\n",
       "                               director                            sc_writer  \\\n",
       "0                                   NaN                                  NaN   \n",
       "1                                   NaN                                  NaN   \n",
       "2     ['Kim Sung Yong', 'Lee Han Joon']                  ['Hwang Jin Young']   \n",
       "3                      ['So Joon Moon']                                  NaN   \n",
       "4                     ['Yoo Seon Dong']         ['Kim Sae Bom', 'Yeo Ji Na']   \n",
       "...                                 ...                                  ...   \n",
       "1768                  ['Lee Yoon Jung']                      ['Lee Jung Ah']   \n",
       "1769  ['Kim Yong Bum', 'An Joon Young']  ['Jung Soo Hyun', 'Shin Myung Jin']   \n",
       "1770                  ['Park Hyun Suk']        ['Han Sang Woon', 'Lee Kang']   \n",
       "1771     ['Kim Jin Man', 'Kim Dae Jin']                      ['Jin Soo Wan']   \n",
       "1772                ['Park Kyung Ryul']                    ['Park Hye Ryun']   \n",
       "\n",
       "          country  ...    start_dt      end_dt  \\\n",
       "0     South Korea  ...  2023-08-18  2023-08-18   \n",
       "1     South Korea  ...  2023-08-07  2023-08-11   \n",
       "2     South Korea  ...  2023-08-04  2023-09-02   \n",
       "3     South Korea  ...  2023-08-02  2023-08-02   \n",
       "4     South Korea  ...  2023-07-29  2023-09-03   \n",
       "...           ...  ...         ...         ...   \n",
       "1768  South Korea  ...  2015-01-09  2015-03-07   \n",
       "1769  South Korea  ...  2015-01-09  2015-03-27   \n",
       "1770  South Korea  ...  2015-01-09  2015-03-06   \n",
       "1771  South Korea  ...  2015-01-07  2015-03-12   \n",
       "1772  South Korea  ...  2015-01-05  2015-06-22   \n",
       "\n",
       "                                          aired_on          org_net  \\\n",
       "0                                           Friday          Netflix   \n",
       "1                        Monday, Wednesday, Friday              NaN   \n",
       "2                                 Friday, Saturday              MBC   \n",
       "3                                        Wednesday              NaN   \n",
       "4                                 Saturday, Sunday  Netflix OCN tvN   \n",
       "...                                            ...              ...   \n",
       "1768                              Friday, Saturday              tvN   \n",
       "1769                                        Friday             Mnet   \n",
       "1770                                        Friday             KBS2   \n",
       "1771                           Wednesday, Thursday              MBC   \n",
       "1772  Monday, Tuesday, Wednesday, Thursday, Friday              SBS   \n",
       "\n",
       "     tot_user_score tot_num_user tot_watched  \\\n",
       "0               7.9       5814.0       13098   \n",
       "1               8.0         16.0          44   \n",
       "2               8.7       1680.0        8523   \n",
       "3               8.1       3613.0        8224   \n",
       "4               8.5       5542.0       27408   \n",
       "...             ...          ...         ...   \n",
       "1768            7.9       5911.0       14441   \n",
       "1769            7.2       2438.0        7334   \n",
       "1770            7.2       1599.0        5795   \n",
       "1771            8.7      47984.0      104952   \n",
       "1772            7.5         28.0         483   \n",
       "\n",
       "                                 content_rt   rank  popularity  \n",
       "0     18+ Restricted (violence & profanity)   2940        1052  \n",
       "1                             Not Yet Rated  42186       99999  \n",
       "2                   15+ - Teens 15 or older    187        1584  \n",
       "3                             Not Yet Rated   1885        1628  \n",
       "4                   15+ - Teens 15 or older    571         420  \n",
       "...                                     ...    ...         ...  \n",
       "1768                15+ - Teens 15 or older   2842         961  \n",
       "1769                          Not Yet Rated   7269        1793  \n",
       "1770                          Not Yet Rated   7438        2188  \n",
       "1771                15+ - Teens 15 or older    247          30  \n",
       "1772                15+ - Teens 15 or older  75588       11024  \n",
       "\n",
       "[1773 rows x 23 columns]"
      ]
     },
     "execution_count": 1,
     "metadata": {},
     "output_type": "execute_result"
    }
   ],
   "source": [
    "# Import pandas untuk mengolah dan menganalisa data\n",
    "import pandas as pd\n",
    "\n",
    "# Buka dataset K-Drama\n",
    "df = pd.read_csv('kor_drama.csv')\n",
    "\n",
    "# Tampilkan seluruh isi tabel K-Drama\n",
    "df"
   ]
  },
  {
   "cell_type": "markdown",
   "metadata": {},
   "source": [
    "Dari tabel K-Drama di atas, dapat dilihat bahwa tabel tersebut memiliki 1773 data drama dan film tv dari Korea Selatan, dengan 23 kolom yang menjelaskan mengenai detail drama atau film tersebut. Sesuai dengan rumusan masalah, data-data yang dibutuhkan dari dataset ini hanya data drama Korea Selatan (K-Drama) dengan detail judul dan id drama tersebut, genre drama, rating drama, dan berapa banyak user MyDramaList yang menonton drama tersebut.\n",
    "\n",
    "Selain itu, dapat dilihat dalam tabel bahwa satu judul drama dapat memiliki lebih dari satu genre, di mana dalam tabel ini masih berbentuk string yang dipisahkan oleh tanda koma (,). Value ini perlu diubah untuk kebutuhan pengolahan data ke depannya."
   ]
  },
  {
   "cell_type": "code",
   "execution_count": 2,
   "metadata": {},
   "outputs": [
    {
     "name": "stdout",
     "output_type": "stream",
     "text": [
      "<class 'pandas.core.frame.DataFrame'>\n",
      "RangeIndex: 1773 entries, 0 to 1772\n",
      "Data columns (total 23 columns):\n",
      " #   Column          Non-Null Count  Dtype  \n",
      "---  ------          --------------  -----  \n",
      " 0   drama_id        1773 non-null   object \n",
      " 1   drama_name      1773 non-null   object \n",
      " 2   native_name     1766 non-null   object \n",
      " 3   year            1773 non-null   int64  \n",
      " 4   synopsis        1604 non-null   object \n",
      " 5   genres          1768 non-null   object \n",
      " 6   tags            1773 non-null   object \n",
      " 7   director        1045 non-null   object \n",
      " 8   sc_writer       967 non-null    object \n",
      " 9   country         1773 non-null   object \n",
      " 10  type            1773 non-null   object \n",
      " 11  tot_eps         1760 non-null   float64\n",
      " 12  ep_duration     1750 non-null   float64\n",
      " 13  start_dt        1760 non-null   object \n",
      " 14  end_dt          1760 non-null   object \n",
      " 15  aired_on        1529 non-null   object \n",
      " 16  org_net         1350 non-null   object \n",
      " 17  tot_user_score  1746 non-null   float64\n",
      " 18  tot_num_user    1746 non-null   float64\n",
      " 19  tot_watched     1773 non-null   int64  \n",
      " 20  content_rt      1773 non-null   object \n",
      " 21  rank            1773 non-null   int64  \n",
      " 22  popularity      1773 non-null   int64  \n",
      "dtypes: float64(4), int64(4), object(15)\n",
      "memory usage: 318.7+ KB\n"
     ]
    }
   ],
   "source": [
    "# Tampilkan informasi dari setiap kolom dalam tabel korean drama\n",
    "df.info()"
   ]
  },
  {
   "cell_type": "markdown",
   "metadata": {},
   "source": [
    "Dari informasi mengenai kolom-kolom yang ada di dalam tabel K-Drama, setiap kolom sudah memiliki data type yang sesuai dengan value dari kolom tersebut, misalnya kolom-kolom yang berisi data numerik sudah memiliki data type integer atau float. Kecuali kolom tanggal drama mulai tayang (start_dt) dan tanggal drama tayang terakhir (end_dt) yang seharusnya memiliki tipe data datetime. Namun karena informasi ini tidak dibutuhkan dalam menyelesaikan rumusan masalah, maka kolom ini nantinya akan dihapus sehingga tidak perlu mengganti tipe data dari kolom-kolom tersebut.\n",
    "\n",
    "Dari tabel informasi di atas juga diketahui bahwa beberapa kolom memiliki missing values atau data yang bernilai NaN, NaT, null, atau none. Seberapa penting untuk menghilangkan missing values dari data-data ini akan dicek kembali dengan menampilkan informasi dari kolom-kolom yang nantinya akan diolah datanya."
   ]
  },
  {
   "cell_type": "code",
   "execution_count": 3,
   "metadata": {},
   "outputs": [
    {
     "name": "stdout",
     "output_type": "stream",
     "text": [
      "<class 'pandas.core.frame.DataFrame'>\n",
      "RangeIndex: 1773 entries, 0 to 1772\n",
      "Data columns (total 5 columns):\n",
      " #   Column          Non-Null Count  Dtype  \n",
      "---  ------          --------------  -----  \n",
      " 0   drama_id        1773 non-null   object \n",
      " 1   drama_name      1773 non-null   object \n",
      " 2   genres          1768 non-null   object \n",
      " 3   tot_user_score  1746 non-null   float64\n",
      " 4   tot_watched     1773 non-null   int64  \n",
      "dtypes: float64(1), int64(1), object(3)\n",
      "memory usage: 69.4+ KB\n"
     ]
    }
   ],
   "source": [
    "# Tampilkan informasi dari kolom drama_id, drama_name, genres, tot_user_score, tot_num_user, tot_watched\n",
    "df[['drama_id','drama_name','genres','tot_user_score','tot_watched']].info()\t"
   ]
  },
  {
   "cell_type": "markdown",
   "metadata": {},
   "source": [
    "Dari pengecekan kolom drama_id, drama_name, genres, tot_user_score, dan tot_watched, dapat dilihat bahwa pada kolom genres dan tot_user_score terdapat missing values. Hal ini berarti ada beberapa data K-Drama yang tidak disebutkan genre dari drama tersebut, serta ada beberapa K-Drama yang tidak atau belum diberikan rating dari user sehingga rating drama drama tersebut menjadi null.\n",
    "\n",
    "Karena data genres dan tot_user_score penting untuk kita olah pada saat analisa data, maka missing values dari kolom-kolom ini akan dibuang."
   ]
  },
  {
   "cell_type": "code",
   "execution_count": 4,
   "metadata": {},
   "outputs": [
    {
     "data": {
      "text/plain": [
       "Drama    1760\n",
       "Movie      13\n",
       "Name: type, dtype: int64"
      ]
     },
     "execution_count": 4,
     "metadata": {},
     "output_type": "execute_result"
    }
   ],
   "source": [
    "# Melihat berapa banyak data drama korea dan berapa banyak data film korea dalam tabel korean drama\n",
    "df['type'].value_counts()"
   ]
  },
  {
   "cell_type": "markdown",
   "metadata": {},
   "source": [
    "Dari informasi berapa banyak masing-masing unique values dari kolom type, diketahui bahwa ada 1760 data drama dan 13 data film. Dalam menyelesaikan problem statement di atas, data film Korea Selatan bisa dihapus saja dan menyisakan data K-Drama yang akan dianalisis."
   ]
  },
  {
   "cell_type": "markdown",
   "metadata": {},
   "source": [
    "## Data Cleaning\n",
    "\n",
    "Data cleaning dari dataset K-Drama ini akan melalui tahap menghapus data yang tidak sesuai (film Korea), menghapus kolom-kolom yang tidak dibutuhkan, menghapus missing values, serta melakukan normalisasi data. Normalisasi data akan dilakukan hingga Third Normal Form (3NF)."
   ]
  },
  {
   "cell_type": "markdown",
   "metadata": {},
   "source": [
    "#### Tahap 1: Membuang data yang termasuk film Korea (df['type'] = 'Movie')"
   ]
  },
  {
   "cell_type": "code",
   "execution_count": 5,
   "metadata": {},
   "outputs": [],
   "source": [
    "# Membuang data yang termasuk film korea\n",
    "df = df.drop(df[df['type'] == 'Movie'].index)"
   ]
  },
  {
   "cell_type": "markdown",
   "metadata": {},
   "source": [
    "#### Tahap 2: Membuang kolom-kolom yang tidak dibutuhkan dalam analisa data"
   ]
  },
  {
   "cell_type": "code",
   "execution_count": 6,
   "metadata": {},
   "outputs": [],
   "source": [
    "# Membuang kolom native_name, year, synopsis, tags, director, sc_writer, country, type, tot_eps,\n",
    "#  ep_duration, start_dt, end_dt, aired_on, org_net, content_rt, rank, popularity\n",
    "df = df.drop(columns=['native_name','year','synopsis','tags','director','sc_writer','country','type',\n",
    "                      'tot_eps','ep_duration','start_dt','end_dt','aired_on','org_net','tot_num_user',\n",
    "                      'content_rt','rank','popularity'])"
   ]
  },
  {
   "cell_type": "markdown",
   "metadata": {},
   "source": [
    "#### Tahap 3: Membuang missing values dari kolom genre drama dan rating drama"
   ]
  },
  {
   "cell_type": "code",
   "execution_count": 7,
   "metadata": {},
   "outputs": [],
   "source": [
    "# Membuang missing values dari kolom-kolom genres, tot_user_score, tot_num_user\n",
    "df = df.dropna(subset=['genres', 'tot_user_score'])"
   ]
  },
  {
   "cell_type": "markdown",
   "metadata": {},
   "source": [
    "### Tahap 4: Memisahkan setiap genre pada kolom genres menjadi list dari genre-genre tersebut"
   ]
  },
  {
   "cell_type": "code",
   "execution_count": 8,
   "metadata": {},
   "outputs": [],
   "source": [
    "# Memisahkan setiap genre berdasarkan tanda koma yang memisahkannya menjadi value-value dalam satu list\n",
    "df['genres'] = df['genres'].str.split(pat=',')"
   ]
  },
  {
   "cell_type": "markdown",
   "metadata": {},
   "source": [
    "#### Tahap 5: Memisahkan setiap genre pada list yang sudah dibuat pada tahap 4 menjadi row data yang berbeda"
   ]
  },
  {
   "cell_type": "code",
   "execution_count": 9,
   "metadata": {},
   "outputs": [],
   "source": [
    "# Memisahkan tiap genre yang ada dalam list menjadi row berbeda\n",
    "df = df.explode('genres').reset_index(drop=True)"
   ]
  },
  {
   "cell_type": "markdown",
   "metadata": {},
   "source": [
    "#### Tahap 6: Membersihkan value pada kolom genres dari spasi yang ada di depan atau di belakang value tersebut"
   ]
  },
  {
   "cell_type": "code",
   "execution_count": 10,
   "metadata": {},
   "outputs": [],
   "source": [
    "# Menghapus spasi dari values dalam kolom genres\n",
    "df['genres'] = df['genres'].str.strip(' ')"
   ]
  },
  {
   "cell_type": "markdown",
   "metadata": {},
   "source": [
    "#### Tahap 7: Simpan dataset yang sudah dibersihkan dan berbentuk First Normal Form (1NF) ke dalam csv"
   ]
  },
  {
   "cell_type": "code",
   "execution_count": 11,
   "metadata": {},
   "outputs": [
    {
     "data": {
      "text/html": [
       "<div>\n",
       "<style scoped>\n",
       "    .dataframe tbody tr th:only-of-type {\n",
       "        vertical-align: middle;\n",
       "    }\n",
       "\n",
       "    .dataframe tbody tr th {\n",
       "        vertical-align: top;\n",
       "    }\n",
       "\n",
       "    .dataframe thead th {\n",
       "        text-align: right;\n",
       "    }\n",
       "</style>\n",
       "<table border=\"1\" class=\"dataframe\">\n",
       "  <thead>\n",
       "    <tr style=\"text-align: right;\">\n",
       "      <th></th>\n",
       "      <th>drama_id</th>\n",
       "      <th>drama_name</th>\n",
       "      <th>genres</th>\n",
       "      <th>tot_user_score</th>\n",
       "      <th>tot_watched</th>\n",
       "    </tr>\n",
       "  </thead>\n",
       "  <tbody>\n",
       "    <tr>\n",
       "      <th>0</th>\n",
       "      <td>a88aff33194c3804d091a0962cb318f009c4734fd6c3f1...</td>\n",
       "      <td>Mask Girl</td>\n",
       "      <td>Thriller</td>\n",
       "      <td>7.9</td>\n",
       "      <td>13098</td>\n",
       "    </tr>\n",
       "    <tr>\n",
       "      <th>1</th>\n",
       "      <td>a88aff33194c3804d091a0962cb318f009c4734fd6c3f1...</td>\n",
       "      <td>Mask Girl</td>\n",
       "      <td>Mystery</td>\n",
       "      <td>7.9</td>\n",
       "      <td>13098</td>\n",
       "    </tr>\n",
       "    <tr>\n",
       "      <th>2</th>\n",
       "      <td>a88aff33194c3804d091a0962cb318f009c4734fd6c3f1...</td>\n",
       "      <td>Mask Girl</td>\n",
       "      <td>Comedy</td>\n",
       "      <td>7.9</td>\n",
       "      <td>13098</td>\n",
       "    </tr>\n",
       "    <tr>\n",
       "      <th>3</th>\n",
       "      <td>a88aff33194c3804d091a0962cb318f009c4734fd6c3f1...</td>\n",
       "      <td>Mask Girl</td>\n",
       "      <td>Drama</td>\n",
       "      <td>7.9</td>\n",
       "      <td>13098</td>\n",
       "    </tr>\n",
       "    <tr>\n",
       "      <th>4</th>\n",
       "      <td>c40001209622c610cb93d1a452fbdbaac4221c2c07e038...</td>\n",
       "      <td>Better Things</td>\n",
       "      <td>Sitcom</td>\n",
       "      <td>8.0</td>\n",
       "      <td>44</td>\n",
       "    </tr>\n",
       "    <tr>\n",
       "      <th>...</th>\n",
       "      <td>...</td>\n",
       "      <td>...</td>\n",
       "      <td>...</td>\n",
       "      <td>...</td>\n",
       "      <td>...</td>\n",
       "    </tr>\n",
       "    <tr>\n",
       "      <th>5291</th>\n",
       "      <td>0517e3c91bbe0cab01844e776fc99914dc091d0fe346e3...</td>\n",
       "      <td>Kill Me, Heal Me</td>\n",
       "      <td>Romance</td>\n",
       "      <td>8.7</td>\n",
       "      <td>104952</td>\n",
       "    </tr>\n",
       "    <tr>\n",
       "      <th>5292</th>\n",
       "      <td>0517e3c91bbe0cab01844e776fc99914dc091d0fe346e3...</td>\n",
       "      <td>Kill Me, Heal Me</td>\n",
       "      <td>Drama</td>\n",
       "      <td>8.7</td>\n",
       "      <td>104952</td>\n",
       "    </tr>\n",
       "    <tr>\n",
       "      <th>5293</th>\n",
       "      <td>f2ed99f1018d7511b0a2373d9c9b8d406f0369fdece73d...</td>\n",
       "      <td>Enchanting Neighbor</td>\n",
       "      <td>Romance</td>\n",
       "      <td>7.5</td>\n",
       "      <td>483</td>\n",
       "    </tr>\n",
       "    <tr>\n",
       "      <th>5294</th>\n",
       "      <td>f2ed99f1018d7511b0a2373d9c9b8d406f0369fdece73d...</td>\n",
       "      <td>Enchanting Neighbor</td>\n",
       "      <td>Family</td>\n",
       "      <td>7.5</td>\n",
       "      <td>483</td>\n",
       "    </tr>\n",
       "    <tr>\n",
       "      <th>5295</th>\n",
       "      <td>f2ed99f1018d7511b0a2373d9c9b8d406f0369fdece73d...</td>\n",
       "      <td>Enchanting Neighbor</td>\n",
       "      <td>Melodrama</td>\n",
       "      <td>7.5</td>\n",
       "      <td>483</td>\n",
       "    </tr>\n",
       "  </tbody>\n",
       "</table>\n",
       "<p>5296 rows × 5 columns</p>\n",
       "</div>"
      ],
      "text/plain": [
       "                                               drama_id           drama_name  \\\n",
       "0     a88aff33194c3804d091a0962cb318f009c4734fd6c3f1...            Mask Girl   \n",
       "1     a88aff33194c3804d091a0962cb318f009c4734fd6c3f1...            Mask Girl   \n",
       "2     a88aff33194c3804d091a0962cb318f009c4734fd6c3f1...            Mask Girl   \n",
       "3     a88aff33194c3804d091a0962cb318f009c4734fd6c3f1...            Mask Girl   \n",
       "4     c40001209622c610cb93d1a452fbdbaac4221c2c07e038...        Better Things   \n",
       "...                                                 ...                  ...   \n",
       "5291  0517e3c91bbe0cab01844e776fc99914dc091d0fe346e3...     Kill Me, Heal Me   \n",
       "5292  0517e3c91bbe0cab01844e776fc99914dc091d0fe346e3...     Kill Me, Heal Me   \n",
       "5293  f2ed99f1018d7511b0a2373d9c9b8d406f0369fdece73d...  Enchanting Neighbor   \n",
       "5294  f2ed99f1018d7511b0a2373d9c9b8d406f0369fdece73d...  Enchanting Neighbor   \n",
       "5295  f2ed99f1018d7511b0a2373d9c9b8d406f0369fdece73d...  Enchanting Neighbor   \n",
       "\n",
       "         genres  tot_user_score  tot_watched  \n",
       "0      Thriller             7.9        13098  \n",
       "1       Mystery             7.9        13098  \n",
       "2        Comedy             7.9        13098  \n",
       "3         Drama             7.9        13098  \n",
       "4        Sitcom             8.0           44  \n",
       "...         ...             ...          ...  \n",
       "5291    Romance             8.7       104952  \n",
       "5292      Drama             8.7       104952  \n",
       "5293    Romance             7.5          483  \n",
       "5294     Family             7.5          483  \n",
       "5295  Melodrama             7.5          483  \n",
       "\n",
       "[5296 rows x 5 columns]"
      ]
     },
     "execution_count": 11,
     "metadata": {},
     "output_type": "execute_result"
    }
   ],
   "source": [
    "# Simpan dataset yang sudah dibersihkan ke dalam csv\n",
    "df.to_csv('1nf_kdrama.csv',index=False)\n",
    "\n",
    "# Tampilkan tabel hasil data cleaning dan normalisasi 1NF\n",
    "df"
   ]
  },
  {
   "cell_type": "markdown",
   "metadata": {},
   "source": [
    "#### Tahap 8: Buat tabel normalisasi untuk genre drama"
   ]
  },
  {
   "cell_type": "code",
   "execution_count": 12,
   "metadata": {},
   "outputs": [
    {
     "data": {
      "text/html": [
       "<div>\n",
       "<style scoped>\n",
       "    .dataframe tbody tr th:only-of-type {\n",
       "        vertical-align: middle;\n",
       "    }\n",
       "\n",
       "    .dataframe tbody tr th {\n",
       "        vertical-align: top;\n",
       "    }\n",
       "\n",
       "    .dataframe thead th {\n",
       "        text-align: right;\n",
       "    }\n",
       "</style>\n",
       "<table border=\"1\" class=\"dataframe\">\n",
       "  <thead>\n",
       "    <tr style=\"text-align: right;\">\n",
       "      <th></th>\n",
       "      <th>genres</th>\n",
       "      <th>genre_id</th>\n",
       "    </tr>\n",
       "  </thead>\n",
       "  <tbody>\n",
       "    <tr>\n",
       "      <th>0</th>\n",
       "      <td>Thriller</td>\n",
       "      <td>0</td>\n",
       "    </tr>\n",
       "    <tr>\n",
       "      <th>1</th>\n",
       "      <td>Mystery</td>\n",
       "      <td>1</td>\n",
       "    </tr>\n",
       "    <tr>\n",
       "      <th>2</th>\n",
       "      <td>Comedy</td>\n",
       "      <td>2</td>\n",
       "    </tr>\n",
       "    <tr>\n",
       "      <th>3</th>\n",
       "      <td>Drama</td>\n",
       "      <td>3</td>\n",
       "    </tr>\n",
       "    <tr>\n",
       "      <th>4</th>\n",
       "      <td>Sitcom</td>\n",
       "      <td>4</td>\n",
       "    </tr>\n",
       "    <tr>\n",
       "      <th>5</th>\n",
       "      <td>Historical</td>\n",
       "      <td>5</td>\n",
       "    </tr>\n",
       "    <tr>\n",
       "      <th>6</th>\n",
       "      <td>Romance</td>\n",
       "      <td>6</td>\n",
       "    </tr>\n",
       "    <tr>\n",
       "      <th>7</th>\n",
       "      <td>Melodrama</td>\n",
       "      <td>7</td>\n",
       "    </tr>\n",
       "    <tr>\n",
       "      <th>8</th>\n",
       "      <td>Music</td>\n",
       "      <td>8</td>\n",
       "    </tr>\n",
       "    <tr>\n",
       "      <th>9</th>\n",
       "      <td>Youth</td>\n",
       "      <td>9</td>\n",
       "    </tr>\n",
       "    <tr>\n",
       "      <th>10</th>\n",
       "      <td>Action</td>\n",
       "      <td>10</td>\n",
       "    </tr>\n",
       "    <tr>\n",
       "      <th>11</th>\n",
       "      <td>Supernatural</td>\n",
       "      <td>11</td>\n",
       "    </tr>\n",
       "    <tr>\n",
       "      <th>12</th>\n",
       "      <td>Military</td>\n",
       "      <td>12</td>\n",
       "    </tr>\n",
       "    <tr>\n",
       "      <th>13</th>\n",
       "      <td>Fantasy</td>\n",
       "      <td>13</td>\n",
       "    </tr>\n",
       "    <tr>\n",
       "      <th>14</th>\n",
       "      <td>Horror</td>\n",
       "      <td>14</td>\n",
       "    </tr>\n",
       "    <tr>\n",
       "      <th>15</th>\n",
       "      <td>Psychological</td>\n",
       "      <td>15</td>\n",
       "    </tr>\n",
       "    <tr>\n",
       "      <th>16</th>\n",
       "      <td>Life</td>\n",
       "      <td>16</td>\n",
       "    </tr>\n",
       "    <tr>\n",
       "      <th>17</th>\n",
       "      <td>Crime</td>\n",
       "      <td>17</td>\n",
       "    </tr>\n",
       "    <tr>\n",
       "      <th>18</th>\n",
       "      <td>Food</td>\n",
       "      <td>18</td>\n",
       "    </tr>\n",
       "    <tr>\n",
       "      <th>19</th>\n",
       "      <td>Adventure</td>\n",
       "      <td>19</td>\n",
       "    </tr>\n",
       "    <tr>\n",
       "      <th>20</th>\n",
       "      <td>Sci-Fi</td>\n",
       "      <td>20</td>\n",
       "    </tr>\n",
       "    <tr>\n",
       "      <th>21</th>\n",
       "      <td>Business</td>\n",
       "      <td>21</td>\n",
       "    </tr>\n",
       "    <tr>\n",
       "      <th>22</th>\n",
       "      <td>Medical</td>\n",
       "      <td>22</td>\n",
       "    </tr>\n",
       "    <tr>\n",
       "      <th>23</th>\n",
       "      <td>Family</td>\n",
       "      <td>23</td>\n",
       "    </tr>\n",
       "    <tr>\n",
       "      <th>24</th>\n",
       "      <td>Political</td>\n",
       "      <td>24</td>\n",
       "    </tr>\n",
       "    <tr>\n",
       "      <th>25</th>\n",
       "      <td>Law</td>\n",
       "      <td>25</td>\n",
       "    </tr>\n",
       "    <tr>\n",
       "      <th>26</th>\n",
       "      <td>Mature</td>\n",
       "      <td>26</td>\n",
       "    </tr>\n",
       "    <tr>\n",
       "      <th>27</th>\n",
       "      <td>Sports</td>\n",
       "      <td>27</td>\n",
       "    </tr>\n",
       "    <tr>\n",
       "      <th>28</th>\n",
       "      <td>Documentary</td>\n",
       "      <td>28</td>\n",
       "    </tr>\n",
       "    <tr>\n",
       "      <th>29</th>\n",
       "      <td>Martial Arts</td>\n",
       "      <td>29</td>\n",
       "    </tr>\n",
       "    <tr>\n",
       "      <th>30</th>\n",
       "      <td>Tokusatsu</td>\n",
       "      <td>30</td>\n",
       "    </tr>\n",
       "    <tr>\n",
       "      <th>31</th>\n",
       "      <td>War</td>\n",
       "      <td>31</td>\n",
       "    </tr>\n",
       "  </tbody>\n",
       "</table>\n",
       "</div>"
      ],
      "text/plain": [
       "           genres  genre_id\n",
       "0        Thriller         0\n",
       "1         Mystery         1\n",
       "2          Comedy         2\n",
       "3           Drama         3\n",
       "4          Sitcom         4\n",
       "5      Historical         5\n",
       "6         Romance         6\n",
       "7       Melodrama         7\n",
       "8           Music         8\n",
       "9           Youth         9\n",
       "10         Action        10\n",
       "11   Supernatural        11\n",
       "12       Military        12\n",
       "13        Fantasy        13\n",
       "14         Horror        14\n",
       "15  Psychological        15\n",
       "16           Life        16\n",
       "17          Crime        17\n",
       "18           Food        18\n",
       "19      Adventure        19\n",
       "20         Sci-Fi        20\n",
       "21       Business        21\n",
       "22        Medical        22\n",
       "23         Family        23\n",
       "24      Political        24\n",
       "25            Law        25\n",
       "26         Mature        26\n",
       "27         Sports        27\n",
       "28    Documentary        28\n",
       "29   Martial Arts        29\n",
       "30      Tokusatsu        30\n",
       "31            War        31"
      ]
     },
     "execution_count": 12,
     "metadata": {},
     "output_type": "execute_result"
    }
   ],
   "source": [
    "# Buat dataframe kosong untuk tabel normalisasi genres\n",
    "df_genres = pd.DataFrame()\n",
    "\n",
    "# Buat kolom genres yang berisi unique values dari kolom genres pada tabel K-Drama\n",
    "df_genres['genres'] = df['genres'].drop_duplicates().reset_index(drop=True)\n",
    "\n",
    "# Buat kolom untuk genre_id, di mana id tiap genre memiliki range antara 0 sampai jumlah unique\n",
    "#  values genres\n",
    "df_genres['genre_id'] = range(0, len(df_genres))\n",
    "\n",
    "# Simpan hasil normalisasi genres ke dalam file csv\n",
    "df_genres.to_csv('3nf_genre.csv',index=False)\n",
    "\n",
    "# Tampilkan tabel normalisasi kolom genres\n",
    "df_genres"
   ]
  },
  {
   "cell_type": "markdown",
   "metadata": {},
   "source": [
    "#### Tahap 9: Buat tabel normalisasi untuk judul dan id drama"
   ]
  },
  {
   "cell_type": "code",
   "execution_count": 13,
   "metadata": {},
   "outputs": [
    {
     "data": {
      "text/html": [
       "<div>\n",
       "<style scoped>\n",
       "    .dataframe tbody tr th:only-of-type {\n",
       "        vertical-align: middle;\n",
       "    }\n",
       "\n",
       "    .dataframe tbody tr th {\n",
       "        vertical-align: top;\n",
       "    }\n",
       "\n",
       "    .dataframe thead th {\n",
       "        text-align: right;\n",
       "    }\n",
       "</style>\n",
       "<table border=\"1\" class=\"dataframe\">\n",
       "  <thead>\n",
       "    <tr style=\"text-align: right;\">\n",
       "      <th></th>\n",
       "      <th>drama_id</th>\n",
       "      <th>drama_name</th>\n",
       "    </tr>\n",
       "  </thead>\n",
       "  <tbody>\n",
       "    <tr>\n",
       "      <th>0</th>\n",
       "      <td>a88aff33194c3804d091a0962cb318f009c4734fd6c3f1...</td>\n",
       "      <td>Mask Girl</td>\n",
       "    </tr>\n",
       "    <tr>\n",
       "      <th>1</th>\n",
       "      <td>c40001209622c610cb93d1a452fbdbaac4221c2c07e038...</td>\n",
       "      <td>Better Things</td>\n",
       "    </tr>\n",
       "    <tr>\n",
       "      <th>2</th>\n",
       "      <td>b7dd543d9b210dc0bb76dea6b9d9f0f12c3f8a6a9ea5fc...</td>\n",
       "      <td>My Dearest</td>\n",
       "    </tr>\n",
       "    <tr>\n",
       "      <th>3</th>\n",
       "      <td>d3430eca6f6bcbe87ec5ddf0ebe3e8e8103a6f692611c3...</td>\n",
       "      <td>Sing My Crush</td>\n",
       "    </tr>\n",
       "    <tr>\n",
       "      <th>4</th>\n",
       "      <td>cce259e20612fd4f91b0eedebee3010286d87d27df971e...</td>\n",
       "      <td>The Uncanny Counter Season 2: Counter Punch</td>\n",
       "    </tr>\n",
       "    <tr>\n",
       "      <th>...</th>\n",
       "      <td>...</td>\n",
       "      <td>...</td>\n",
       "    </tr>\n",
       "    <tr>\n",
       "      <th>1724</th>\n",
       "      <td>15de78e73121d910bd16542a1b33a9e29ec27ce4f17d94...</td>\n",
       "      <td>Heart to Heart</td>\n",
       "    </tr>\n",
       "    <tr>\n",
       "      <th>1725</th>\n",
       "      <td>f7342d1808849e11b76b33242ef213ea45e8b303e7a6fd...</td>\n",
       "      <td>Persevere, Goo Hae Ra</td>\n",
       "    </tr>\n",
       "    <tr>\n",
       "      <th>1726</th>\n",
       "      <td>564fe2f97c7d829bdf5a17820fb8cbe459e9b6966f69d0...</td>\n",
       "      <td>Spy</td>\n",
       "    </tr>\n",
       "    <tr>\n",
       "      <th>1727</th>\n",
       "      <td>0517e3c91bbe0cab01844e776fc99914dc091d0fe346e3...</td>\n",
       "      <td>Kill Me, Heal Me</td>\n",
       "    </tr>\n",
       "    <tr>\n",
       "      <th>1728</th>\n",
       "      <td>f2ed99f1018d7511b0a2373d9c9b8d406f0369fdece73d...</td>\n",
       "      <td>Enchanting Neighbor</td>\n",
       "    </tr>\n",
       "  </tbody>\n",
       "</table>\n",
       "<p>1729 rows × 2 columns</p>\n",
       "</div>"
      ],
      "text/plain": [
       "                                               drama_id  \\\n",
       "0     a88aff33194c3804d091a0962cb318f009c4734fd6c3f1...   \n",
       "1     c40001209622c610cb93d1a452fbdbaac4221c2c07e038...   \n",
       "2     b7dd543d9b210dc0bb76dea6b9d9f0f12c3f8a6a9ea5fc...   \n",
       "3     d3430eca6f6bcbe87ec5ddf0ebe3e8e8103a6f692611c3...   \n",
       "4     cce259e20612fd4f91b0eedebee3010286d87d27df971e...   \n",
       "...                                                 ...   \n",
       "1724  15de78e73121d910bd16542a1b33a9e29ec27ce4f17d94...   \n",
       "1725  f7342d1808849e11b76b33242ef213ea45e8b303e7a6fd...   \n",
       "1726  564fe2f97c7d829bdf5a17820fb8cbe459e9b6966f69d0...   \n",
       "1727  0517e3c91bbe0cab01844e776fc99914dc091d0fe346e3...   \n",
       "1728  f2ed99f1018d7511b0a2373d9c9b8d406f0369fdece73d...   \n",
       "\n",
       "                                       drama_name  \n",
       "0                                       Mask Girl  \n",
       "1                                   Better Things  \n",
       "2                                      My Dearest  \n",
       "3                                   Sing My Crush  \n",
       "4     The Uncanny Counter Season 2: Counter Punch  \n",
       "...                                           ...  \n",
       "1724                               Heart to Heart  \n",
       "1725                        Persevere, Goo Hae Ra  \n",
       "1726                                          Spy  \n",
       "1727                             Kill Me, Heal Me  \n",
       "1728                          Enchanting Neighbor  \n",
       "\n",
       "[1729 rows x 2 columns]"
      ]
     },
     "execution_count": 13,
     "metadata": {},
     "output_type": "execute_result"
    }
   ],
   "source": [
    "# Buat tabel normalisasi judul drama berisi unique values dari kolom drama_id dan drama_name\n",
    "df_drama = df[['drama_id', 'drama_name']].drop_duplicates().reset_index(drop=True)\n",
    "\n",
    "# Simpan hasil normalisasi kolom drama_id dan drama_name ke dalam file csv\n",
    "df_drama.to_csv('3nf_drama.csv',index=False)\n",
    "\n",
    "# Tampilkan tabel normalisasi untuk drama_id dan drama_name\n",
    "df_drama"
   ]
  },
  {
   "cell_type": "markdown",
   "metadata": {},
   "source": [
    "#### Tahap 10: Lakukan normalisasi data pada tabel utama K-Drama dari tabel hasil normalisasi judul drama dan genre drama"
   ]
  },
  {
   "cell_type": "code",
   "execution_count": 14,
   "metadata": {},
   "outputs": [
    {
     "data": {
      "text/html": [
       "<div>\n",
       "<style scoped>\n",
       "    .dataframe tbody tr th:only-of-type {\n",
       "        vertical-align: middle;\n",
       "    }\n",
       "\n",
       "    .dataframe tbody tr th {\n",
       "        vertical-align: top;\n",
       "    }\n",
       "\n",
       "    .dataframe thead th {\n",
       "        text-align: right;\n",
       "    }\n",
       "</style>\n",
       "<table border=\"1\" class=\"dataframe\">\n",
       "  <thead>\n",
       "    <tr style=\"text-align: right;\">\n",
       "      <th></th>\n",
       "      <th>drama_id</th>\n",
       "      <th>tot_user_score</th>\n",
       "      <th>tot_watched</th>\n",
       "      <th>genre_id</th>\n",
       "    </tr>\n",
       "  </thead>\n",
       "  <tbody>\n",
       "    <tr>\n",
       "      <th>0</th>\n",
       "      <td>a88aff33194c3804d091a0962cb318f009c4734fd6c3f1...</td>\n",
       "      <td>7.9</td>\n",
       "      <td>13098</td>\n",
       "      <td>0</td>\n",
       "    </tr>\n",
       "    <tr>\n",
       "      <th>1</th>\n",
       "      <td>a88aff33194c3804d091a0962cb318f009c4734fd6c3f1...</td>\n",
       "      <td>7.9</td>\n",
       "      <td>13098</td>\n",
       "      <td>1</td>\n",
       "    </tr>\n",
       "    <tr>\n",
       "      <th>2</th>\n",
       "      <td>a88aff33194c3804d091a0962cb318f009c4734fd6c3f1...</td>\n",
       "      <td>7.9</td>\n",
       "      <td>13098</td>\n",
       "      <td>2</td>\n",
       "    </tr>\n",
       "    <tr>\n",
       "      <th>3</th>\n",
       "      <td>a88aff33194c3804d091a0962cb318f009c4734fd6c3f1...</td>\n",
       "      <td>7.9</td>\n",
       "      <td>13098</td>\n",
       "      <td>3</td>\n",
       "    </tr>\n",
       "    <tr>\n",
       "      <th>4</th>\n",
       "      <td>c40001209622c610cb93d1a452fbdbaac4221c2c07e038...</td>\n",
       "      <td>8.0</td>\n",
       "      <td>44</td>\n",
       "      <td>4</td>\n",
       "    </tr>\n",
       "    <tr>\n",
       "      <th>...</th>\n",
       "      <td>...</td>\n",
       "      <td>...</td>\n",
       "      <td>...</td>\n",
       "      <td>...</td>\n",
       "    </tr>\n",
       "    <tr>\n",
       "      <th>5291</th>\n",
       "      <td>0517e3c91bbe0cab01844e776fc99914dc091d0fe346e3...</td>\n",
       "      <td>8.7</td>\n",
       "      <td>104952</td>\n",
       "      <td>6</td>\n",
       "    </tr>\n",
       "    <tr>\n",
       "      <th>5292</th>\n",
       "      <td>0517e3c91bbe0cab01844e776fc99914dc091d0fe346e3...</td>\n",
       "      <td>8.7</td>\n",
       "      <td>104952</td>\n",
       "      <td>3</td>\n",
       "    </tr>\n",
       "    <tr>\n",
       "      <th>5293</th>\n",
       "      <td>f2ed99f1018d7511b0a2373d9c9b8d406f0369fdece73d...</td>\n",
       "      <td>7.5</td>\n",
       "      <td>483</td>\n",
       "      <td>6</td>\n",
       "    </tr>\n",
       "    <tr>\n",
       "      <th>5294</th>\n",
       "      <td>f2ed99f1018d7511b0a2373d9c9b8d406f0369fdece73d...</td>\n",
       "      <td>7.5</td>\n",
       "      <td>483</td>\n",
       "      <td>23</td>\n",
       "    </tr>\n",
       "    <tr>\n",
       "      <th>5295</th>\n",
       "      <td>f2ed99f1018d7511b0a2373d9c9b8d406f0369fdece73d...</td>\n",
       "      <td>7.5</td>\n",
       "      <td>483</td>\n",
       "      <td>7</td>\n",
       "    </tr>\n",
       "  </tbody>\n",
       "</table>\n",
       "<p>5296 rows × 4 columns</p>\n",
       "</div>"
      ],
      "text/plain": [
       "                                               drama_id  tot_user_score  \\\n",
       "0     a88aff33194c3804d091a0962cb318f009c4734fd6c3f1...             7.9   \n",
       "1     a88aff33194c3804d091a0962cb318f009c4734fd6c3f1...             7.9   \n",
       "2     a88aff33194c3804d091a0962cb318f009c4734fd6c3f1...             7.9   \n",
       "3     a88aff33194c3804d091a0962cb318f009c4734fd6c3f1...             7.9   \n",
       "4     c40001209622c610cb93d1a452fbdbaac4221c2c07e038...             8.0   \n",
       "...                                                 ...             ...   \n",
       "5291  0517e3c91bbe0cab01844e776fc99914dc091d0fe346e3...             8.7   \n",
       "5292  0517e3c91bbe0cab01844e776fc99914dc091d0fe346e3...             8.7   \n",
       "5293  f2ed99f1018d7511b0a2373d9c9b8d406f0369fdece73d...             7.5   \n",
       "5294  f2ed99f1018d7511b0a2373d9c9b8d406f0369fdece73d...             7.5   \n",
       "5295  f2ed99f1018d7511b0a2373d9c9b8d406f0369fdece73d...             7.5   \n",
       "\n",
       "      tot_watched  genre_id  \n",
       "0           13098         0  \n",
       "1           13098         1  \n",
       "2           13098         2  \n",
       "3           13098         3  \n",
       "4              44         4  \n",
       "...           ...       ...  \n",
       "5291       104952         6  \n",
       "5292       104952         3  \n",
       "5293          483         6  \n",
       "5294          483        23  \n",
       "5295          483         7  \n",
       "\n",
       "[5296 rows x 4 columns]"
      ]
     },
     "execution_count": 14,
     "metadata": {},
     "output_type": "execute_result"
    }
   ],
   "source": [
    "# Masukan data genre_id ke dalam tabel utama sesuai dengan genre dari judul drama tersebut\n",
    "df = df.merge(df_genres,how='left',on='genres')\n",
    "\n",
    "# Hapus kolom drama_name karena sudah termasuk ke dalam tabel normalisasi judul drama dan kolom genres \n",
    "# karena sudah termasuk ke dalam tabel normalisasi genre drama\n",
    "df = df.drop(columns=['drama_name','genres'])\n",
    "\n",
    "# Simpan tabel utama K-Drama yang sudah dinormalisasi\n",
    "df.to_csv('3nf_kdrama.csv',index=False)\n",
    "\n",
    "# Tampilkan tabel utama K-Drama hasil normalisasi 3NF\n",
    "df"
   ]
  },
  {
   "cell_type": "markdown",
   "metadata": {},
   "source": [
    "## Data Analysis"
   ]
  },
  {
   "cell_type": "markdown",
   "metadata": {},
   "source": [
    "#### Data Analysis and Visualization Setup"
   ]
  },
  {
   "cell_type": "code",
   "execution_count": 7,
   "metadata": {},
   "outputs": [],
   "source": [
    "# Import scipy untuk menghitung korelasi dan statistika inferensial\n",
    "from scipy import stats\n",
    "\n",
    "# Import numpy\n",
    "import numpy as np\n",
    "\n",
    "# Import matplotlib untuk membuat grafik\n",
    "import matplotlib.pyplot as plt\n",
    "\n",
    "# Import seaborn untuk membuat grafik\n",
    "import seaborn as sns\n",
    "\n",
    "# Import plotly untuk membuat grafik treemap\n",
    "import plotly.express as px\n",
    "\n",
    "# Query untuk menggunakan tabel 1NF dari tabel utama K-Drama\n",
    "df_1nf = pd.read_csv('1nf_kdrama.csv')"
   ]
  },
  {
   "cell_type": "markdown",
   "metadata": {},
   "source": [
    "### Central Tendency and Distribution of Korean Dramas' Genres, Ratings, and Viewer Count"
   ]
  },
  {
   "cell_type": "markdown",
   "metadata": {},
   "source": [
    "#### Histogram of Korean Dramas' Genres"
   ]
  },
  {
   "cell_type": "code",
   "execution_count": 30,
   "metadata": {},
   "outputs": [
    {
     "data": {
      "image/png": "[encoded data removed]",
      "text/plain": [
       "<Figure size 640x480 with 1 Axes>"
      ]
     },
     "metadata": {},
     "output_type": "display_data"
    }
   ],
   "source": [
    "# Menampilkan diagram histogram dari genre drama korea yang ada dalam dataset\n",
    "\n",
    "# Buat diagram histogram dari kolom genres di mana semua kolom bernilai discrete\n",
    "sns.histplot(data=df_1nf, x='genres', discrete=True)\n",
    "# Beri judul diagram\n",
    "plt.title('Histogram Korean Drama Genre')\n",
    "# Beri judul sumbu x\n",
    "plt.xlabel('Genre')\n",
    "# Beri judul sumbu y\n",
    "plt.ylabel('Title (Count)')\n",
    "# Menyesuaikan penulisan pada sumbu x agar terbaca dengan baik\n",
    "plt.xticks(rotation=90)\n",
    "# Tampilkan diagram\n",
    "plt.show()"
   ]
  },
  {
   "cell_type": "markdown",
   "metadata": {},
   "source": [
    "Dari histogram di atas dapat dilihat genre mana yang paling banyak di antara drama yang ada di dalam dataset K-Drama ini. Genre K-Drama terbanyak adalah romance sebanyak 1124 judul K-Drama, diikuti dengan genre drama dengan 868 judul, dan comedy sebanyak 669 judul. Sementara genre yang paling jarang ditemui pada K-Drama adalah genre mature yang ditemui hanya pada 2 judul dalam dataset ini, genre martial arts sebanyak 2 judul, dan genre paling jarang ditemui adalah genre war yang ada hanya pada 1 judul K-Drama."
   ]
  },
  {
   "cell_type": "markdown",
   "metadata": {},
   "source": [
    "#### Central Tendency and Distribution of Korean Dramas' Ratings"
   ]
  },
  {
   "cell_type": "code",
   "execution_count": 59,
   "metadata": {},
   "outputs": [
    {
     "data": {
      "text/plain": [
       "Text(0.5, 1.0, 'Distribution of Korean Drama Ratings')"
      ]
     },
     "execution_count": 59,
     "metadata": {},
     "output_type": "execute_result"
    },
    {
     "data": {
      "image/png": "[encoded data removed]",
      "text/plain": [
       "<Figure size 640x480 with 1 Axes>"
      ]
     },
     "metadata": {},
     "output_type": "display_data"
    }
   ],
   "source": [
    "# Menampilkan box plot dari persebaran data rating K-Drama\n",
    "\n",
    "# Membuat box plot dari data rating K-Drama (kolom tot_user_score)\n",
    "df['tot_user_score'].plot(kind='box',vert=False)\n",
    "\n",
    "# Menghitung central tendency dan skewness dari rating masing-masing K-Drama\n",
    "rating_mean = df['tot_user_score'].mean().__round__(2)\n",
    "rating_median = df['tot_user_score'].median()\n",
    "rating_mode = df['tot_user_score'].mode()[0]\n",
    "rating_skew = df['tot_user_score'].skew().__round__(2)\n",
    "\n",
    "# Menggambarkan central tendency dalam grafik box plot\n",
    "plt.annotate(f'Mean = {rating_mean}', xy=(rating_mean, 1.45), xytext=(rating_mean + 0.1, 1.45))\n",
    "plt.axvline(x=rating_mean, linestyle='--', color='lightgrey',label='Mean')\n",
    "plt.annotate(f'Median = {rating_median}', xy=(rating_median, 1.4), xytext=(rating_median, 1.4))\n",
    "plt.axvline(x=rating_median, linestyle='--', color='lightgrey',label='Median')\n",
    "plt.annotate(f'Modus = {rating_mode}', xy=(rating_mode, 1.425), xytext=(rating_mode - 1.32, 1.425))\n",
    "plt.axvline(x=rating_mode, linestyle='--', color='lightgrey',label='Mode')\n",
    "\n",
    "# Menuliskan skewness dari data rating K-Drama\n",
    "plt.text(x=5.2,y=0.55,s=f'Skewness = {rating_skew} ',va='top',ha='right')\n",
    "\n",
    "# Memberikan judul sumbu y\n",
    "plt.ylabel(\"User Rating\")\n",
    "plt.yticks(rotation=90)\n",
    "\n",
    "# Memberikan judul grafik\n",
    "plt.title('Distribution of Korean Drama Ratings')"
   ]
  },
  {
   "cell_type": "markdown",
   "metadata": {},
   "source": [
    "Dari box plot di atas, dapat disimpulkan bahwa data rating dari K-Drama yang ada dalam dataset ini terdistribusi cukup normal cenderung negatif, di mana skewness dari distribusi data tersebut berada di antara -0.5 dengan 0.5 (-0.5 < -0.28 < 0.5). Hal ini juga dapat dilihat dari perhitungan central tendency yang menunjukkan antara rata-rata, median, dan modus dari data rating ini tidak memiliki perbedaan yang besar.\n",
    "\n",
    "Dalam data rating K-Drama ini terdapat beberapa outlier data, namun outlier ini akan tetap diperhitungkan dalam analisa data ke depannya karena data rating dari setiap judul drama penting untuk diperhitungkan dan tidak perlu dibuang outlier datanya."
   ]
  },
  {
   "cell_type": "markdown",
   "metadata": {},
   "source": [
    "#### Central Tendency and Distribution of Korean Dramas' Viewer Count"
   ]
  },
  {
   "cell_type": "code",
   "execution_count": 73,
   "metadata": {},
   "outputs": [
    {
     "data": {
      "text/plain": [
       "Text(0.5, 1.0, 'Distribution of Korean Drama Viewers')"
      ]
     },
     "execution_count": 73,
     "metadata": {},
     "output_type": "execute_result"
    },
    {
     "data": {
      "image/png": "[encoded data removed]",
      "text/plain": [
       "<Figure size 640x480 with 1 Axes>"
      ]
     },
     "metadata": {},
     "output_type": "display_data"
    }
   ],
   "source": [
    "# Menampilkan box plot dari persebaran data jumlah penonton tiap judul K-Drama\n",
    "\n",
    "# Membuat box plot dari data penonton K-Drama (kolom tot_watched)\n",
    "df['tot_watched'].plot(kind='box',vert=False)\n",
    "\n",
    "# Menghitung central tendency dan skewness dari jumlah penonton masing-masing K-Drama\n",
    "watch_mean = df['tot_watched'].mean().__round__(2)\n",
    "watch_median = df['tot_watched'].median()\n",
    "watch_mode = df['tot_watched'].mode()[0]\n",
    "watch_skew = df['tot_watched'].skew().__round__(2)\n",
    "\n",
    "# Menggambarkan central tendency dalam grafik box plot\n",
    "plt.annotate(f'Mean = {watch_mean}', xy=(watch_mean, 1.35), xytext=(watch_mean + 2000, 1.35))\n",
    "plt.axvline(x=watch_mean, linestyle='--', color='lightgrey',label='Mean')\n",
    "plt.annotate(f'Median = {watch_median}', xy=(watch_median, 1.4), xytext=(watch_median + 2000, 1.4))\n",
    "plt.axvline(x=watch_median, linestyle='--', color='lightgrey',label='Median')\n",
    "plt.annotate(f'Modus = {watch_mode}', xy=(watch_mode, 1.45), xytext=(watch_mode + 2000, 1.45))\n",
    "plt.axvline(x=watch_mode, linestyle='--', color='lightgrey',label='Mode')\n",
    "\n",
    "# Menuliskan skewness dari data jumlah penonton masing-masing K-Drama\n",
    "plt.text(x=215000,y= 0.55,s=f'Skewness = {watch_skew} ',va='top',ha='right')\n",
    "\n",
    "# Memberikan judul sumbu y\n",
    "plt.ylabel(\"Number of Viewer\")\n",
    "plt.yticks(rotation=90)\n",
    "\n",
    "# Memberikan judul grafik\n",
    "plt.title('Distribution of Korean Drama Viewers')"
   ]
  },
  {
   "cell_type": "markdown",
   "metadata": {},
   "source": [
    "Dari box plot di atas dapat dilihat bahwa data jumlah penonton dari setiap drama memiliki persebaran yang highly positive skewed, di mana skewness dari data jumlah penonton setiap K-Drama lebih besar dari 1 (3.01 > 1). Hal ini juga dapat dilihat dari perhitungan central tendency di mana modus data jumlah penonton tiap K-Drama lebih kecil dari median data ini, dan median data ini lebih kecil dari rata-ratanya (modus < median < mean).\n",
    "\n",
    "Dari box plot di atas juga terlihat banyaknya data yang menjadi outlier dalam data jumlah penonton masing-masing judul K-Drama ini. Namun, outlier data akan dipertahankan dan diperhitungkan dalam analisis data di bagian selanjutnya."
   ]
  },
  {
   "cell_type": "markdown",
   "metadata": {},
   "source": [
    "### Correlation between Korean Dramas' Genres, Ratings, and Viewer Count"
   ]
  },
  {
   "cell_type": "markdown",
   "metadata": {},
   "source": [
    "#### Average Korean Dramas' Viewers by Genre(s)"
   ]
  },
  {
   "cell_type": "code",
   "execution_count": 5,
   "metadata": {},
   "outputs": [
    {
     "data": {
      "image/png": "[encoded data removed]",
      "text/plain": [
       "<Figure size 1000x600 with 1 Axes>"
      ]
     },
     "metadata": {},
     "output_type": "display_data"
    }
   ],
   "source": [
    "# Menampilkan bar chart untuk melihat rata-rata jumlah penonton dari setiap genre K-Drama\n",
    "\n",
    "# Menghitung rata-rata jumlah penonton K-Drama berdasarkan genre-nya\n",
    "avg_watch = df_1nf.groupby('genres')['tot_watched'].mean().reset_index()\n",
    "\n",
    "# Membuat bar chart dari rata-rata jumlah penonton berdasarkan genre K-Drama\n",
    "plt.figure(figsize=(10, 6))\n",
    "plt.bar(avg_watch['genres'], avg_watch['tot_watched'])\n",
    "\n",
    "# Memberikan judul grafik\n",
    "plt.title('Average Korean Drama Viewers by Genre')\n",
    "# Memberikan judul sumbu x dan memperbaiki peletakkan value-nya agar mudah dibaca\n",
    "plt.xlabel('Genre')\n",
    "plt.xticks(rotation=90)\n",
    "# Memberikan judul sumbu y\n",
    "plt.ylabel('Average Viewer Count')\n",
    "# Menampilkan grafik\n",
    "plt.show()"
   ]
  },
  {
   "cell_type": "markdown",
   "metadata": {},
   "source": [
    "Dari bar chart di atas dapat dilihat genre K-Drama yang paling banyak ditonton yaitu military dengan rata-rata jumlah penonton K-Drama dengan genre ini sebanyak 41.342, diikuti dengan genre psychological dengan rata-rata penonton sebesar 31.215, dan genre action yang ditonton rata-rata sebanyak 26.835. Sementara itu genre yang paling sedikit ditonton adalah genre Tokusatsu dengan rata-rata penonton sebanyak 150, diikuti oleh genre documentary yang ditonton rata-rata sebanyak 963."
   ]
  },
  {
   "cell_type": "markdown",
   "metadata": {},
   "source": [
    "#### Average Korean Dramas' Ratings by Genre(s)"
   ]
  },
  {
   "cell_type": "code",
   "execution_count": 78,
   "metadata": {},
   "outputs": [
    {
     "data": {
      "image/png": "[encoded data removed]",
      "text/plain": [
       "<Figure size 1000x600 with 1 Axes>"
      ]
     },
     "metadata": {},
     "output_type": "display_data"
    }
   ],
   "source": [
    "# Membuat box plot dari rata-rata rating setiap genre K-Drama\n",
    "\n",
    "# Menghitung rata-rata rating K-Drama berdasarkan genre-nya\n",
    "avg_rating = df_1nf.groupby('genres')['tot_user_score'].mean().reset_index()\n",
    "\n",
    "# Membuat box plot dari rata-rata rating berdasarkan genre K-Drama\n",
    "plt.figure(figsize=(10, 6))\n",
    "plt.boxplot([df[df_1nf['genres'] == genre]['tot_user_score'] for genre in avg_rating['genres']], \n",
    "            labels=avg_rating['genres'])\n",
    "\n",
    "# Memberi judul diagram\n",
    "plt.title('Box Plot of Average Ratings by Korean Drama Genre')\n",
    "\n",
    "# Memberi judul sumbu x dan menyesuaikan peletakkan value-nya agar lebih mudah dibaca\n",
    "plt.xlabel('Genre')\n",
    "plt.xticks(rotation=90)\n",
    "\n",
    "# Memberi judul sumbu y\n",
    "plt.ylabel('Average Ratings')\n",
    "\n",
    "# Menampilkan diagram\n",
    "plt.show()"
   ]
  },
  {
   "cell_type": "markdown",
   "metadata": {},
   "source": [
    "Dari box plot di atas, dapat dilihat genre K-Drama yang memiliki rata-rata rating tertinggi yaitu genre military dengan rata-rata rating sebesar 8.4, diikuti dengan genre war dengan rata-rata rating sebesar 8.3, genre action dengan rata-rata rating sebesar 8.06, dan genre law dengan rata-rata rating sebesar 8.04. Hal yang perlu diingat dari insight diagram ini adalah genre military, war, action, dan law memiliki jumlah judul K-Drama kurang dari 200 judul, bahkan genre war hanya memiliki 1 judul K-Drama dalam dataset ini.\n",
    "\n",
    "Sementara genre dengan rata-rata rating K-Drama terkecil adalah genre martial arts dengan rata-rata rating sebesar 6.25, diikuti dengan genre Tokusatsu dengan rata-rata rating sebesar 7.22, dan genre family dengan rata-rata rating 7.27. Ketiga genre ini juga memiliki jumlah judul yang kurang dari 200 judul, di mana genre martial arts hanya memiliki 2 judul K-Drama dalam dataset ini sementara genre Tokusatsu memiliki 5 judul K-Drama dalam dataset ini.\n",
    "\n",
    "Dari diagram dan analisa box plot untuk rata-rata rating K-Drama dari setiap genre-nya dapat disimpulkan bahwa semakin sedikit jumlah judul drama dari genre tersebut semakin bias/polarized rating yang diberikan oleh user. Sementara genre yang memiliki judul yang banyak dalam dataset ini seperti genre romance, drama, dan comedy memiliki rata-rata rating yang lebih seimbang."
   ]
  },
  {
   "cell_type": "markdown",
   "metadata": {},
   "source": [
    "#### Relationship between Korean Drama Genres, Viewer Count, and Ratings (Using Treemap)"
   ]
  },
  {
   "cell_type": "code",
   "execution_count": 83,
   "metadata": {},
   "outputs": [
    {
     "data": {
      "application/vnd.plotly.v1+json": {
       "config": {
        "plotlyServerURL": "https://plot.ly"
       },
       "data": [
        {
         "branchvalues": "total",
         "customdata": [
          [
           8.06271186440678
          ],
          [
           7.758823529411766
          ],
          [
           7.588421052631578
          ],
          [
           7.598804185351271
          ],
          [
           8.033333333333333
          ],
          [
           7.859999999999999
          ],
          [
           7.637557603686636
          ],
          [
           7.266265060240965
          ],
          [
           7.6537037037037035
          ],
          [
           7.344230769230768
          ],
          [
           7.9759493670886075
          ],
          [
           7.7523809523809515
          ],
          [
           8.03623188405797
          ],
          [
           7.7219999999999995
          ],
          [
           6.25
          ],
          [
           7.6000000000000005
          ],
          [
           8.011363636363637
          ],
          [
           7.622317596566524
          ],
          [
           8.4
          ],
          [
           7.496491228070176
          ],
          [
           7.904501607717043
          ],
          [
           7.974
          ],
          [
           7.967924528301887
          ],
          [
           7.510587188612099
          ],
          [
           7.660714285714286
          ],
          [
           7.541666666666667
          ],
          [
           7.716666666666666
          ],
          [
           7.548672566371682
          ],
          [
           7.971739130434782
          ],
          [
           7.220000000000001
          ],
          [
           8.3
          ],
          [
           7.460115606936416
          ]
         ],
         "domain": {
          "x": [
           0,
           1
          ],
          "y": [
           0,
           1
          ]
         },
         "hovertemplate": "labels=%{label}<br>value=%{value}<br>parent=%{parent}<br>id=%{id}<br>color=%{color}<extra></extra>",
         "ids": [
          "Action",
          "Adventure",
          "Business",
          "Comedy",
          "Crime",
          "Documentary",
          "Drama",
          "Family",
          "Fantasy",
          "Food",
          "Historical",
          "Horror",
          "Law",
          "Life",
          "Martial Arts",
          "Mature",
          "Medical",
          "Melodrama",
          "Military",
          "Music",
          "Mystery",
          "Political",
          "Psychological",
          "Romance",
          "Sci-Fi",
          "Sitcom",
          "Sports",
          "Supernatural",
          "Thriller",
          "Tokusatsu",
          "War",
          "Youth"
         ],
         "labels": [
          "Action",
          "Adventure",
          "Business",
          "Comedy",
          "Crime",
          "Documentary",
          "Drama",
          "Family",
          "Fantasy",
          "Food",
          "Historical",
          "Horror",
          "Law",
          "Life",
          "Martial Arts",
          "Mature",
          "Medical",
          "Melodrama",
          "Military",
          "Music",
          "Mystery",
          "Political",
          "Psychological",
          "Romance",
          "Sci-Fi",
          "Sitcom",
          "Sports",
          "Supernatural",
          "Thriller",
          "Tokusatsu",
          "War",
          "Youth"
         ],
         "marker": {
          "coloraxis": "coloraxis",
          "colors": [
           8.06271186440678,
           7.758823529411766,
           7.588421052631578,
           7.598804185351271,
           8.033333333333333,
           7.859999999999999,
           7.637557603686636,
           7.266265060240965,
           7.6537037037037035,
           7.344230769230768,
           7.9759493670886075,
           7.7523809523809515,
           8.03623188405797,
           7.7219999999999995,
           6.25,
           7.6000000000000005,
           8.011363636363637,
           7.622317596566524,
           8.4,
           7.496491228070176,
           7.904501607717043,
           7.974,
           7.967924528301887,
           7.510587188612099,
           7.660714285714286,
           7.541666666666667,
           7.716666666666666,
           7.548672566371682,
           7.971739130434782,
           7.220000000000001,
           8.3,
           7.460115606936416
          ]
         },
         "name": "",
         "parents": [
          "",
          "",
          "",
          "",
          "",
          "",
          "",
          "",
          "",
          "",
          "",
          "",
          "",
          "",
          "",
          "",
          "",
          "",
          "",
          "",
          "",
          "",
          "",
          "",
          "",
          "",
          "",
          "",
          "",
          "",
          "",
          ""
         ],
         "type": "treemap",
         "values": [
          26835.4406779661,
          4893.117647058823,
          19519.947368421053,
          17142.593423019433,
          22371.425925925927,
          963.6,
          14639.081797235023,
          2464.734939759036,
          22361.314814814814,
          4779.7307692307695,
          22084.936708860758,
          25480.619047619046,
          21483.405797101448,
          13907.47,
          4034.5,
          12953.5,
          19922.43181818182,
          15369.862660944205,
          41342.5,
          11946.719298245614,
          16696.073954983924,
          16757.26,
          31214.77358490566,
          15215.97330960854,
          21221.76785714286,
          2726.4166666666665,
          24944.125,
          17122.21238938053,
          20863.926086956522,
          150.2,
          8860,
          9015.234104046243
         ]
        }
       ],
       "layout": {
        "coloraxis": {
         "colorbar": {
          "title": {
           "text": "color"
          }
         },
         "colorscale": [
          [
           0,
           "#0d0887"
          ],
          [
           0.1111111111111111,
           "#46039f"
          ],
          [
           0.2222222222222222,
           "#7201a8"
          ],
          [
           0.3333333333333333,
           "#9c179e"
          ],
          [
           0.4444444444444444,
           "#bd3786"
          ],
          [
           0.5555555555555556,
           "#d8576b"
          ],
          [
           0.6666666666666666,
           "#ed7953"
          ],
          [
           0.7777777777777778,
           "#fb9f3a"
          ],
          [
           0.8888888888888888,
           "#fdca26"
          ],
          [
           1,
           "#f0f921"
          ]
         ]
        },
        "legend": {
         "tracegroupgap": 0
        },
        "margin": {
         "b": 0,
         "l": 0,
         "r": 0,
         "t": 30
        },
        "template": {
         "data": {
          "bar": [
           {
            "error_x": {
             "color": "#2a3f5f"
            },
            "error_y": {
             "color": "#2a3f5f"
            },
            "marker": {
             "line": {
              "color": "#E5ECF6",
              "width": 0.5
             },
             "pattern": {
              "fillmode": "overlay",
              "size": 10,
              "solidity": 0.2
             }
            },
            "type": "bar"
           }
          ],
          "barpolar": [
           {
            "marker": {
             "line": {
              "color": "#E5ECF6",
              "width": 0.5
             },
             "pattern": {
              "fillmode": "overlay",
              "size": 10,
              "solidity": 0.2
             }
            },
            "type": "barpolar"
           }
          ],
          "carpet": [
           {
            "aaxis": {
             "endlinecolor": "#2a3f5f",
             "gridcolor": "white",
             "linecolor": "white",
             "minorgridcolor": "white",
             "startlinecolor": "#2a3f5f"
            },
            "baxis": {
             "endlinecolor": "#2a3f5f",
             "gridcolor": "white",
             "linecolor": "white",
             "minorgridcolor": "white",
             "startlinecolor": "#2a3f5f"
            },
            "type": "carpet"
           }
          ],
          "choropleth": [
           {
            "colorbar": {
             "outlinewidth": 0,
             "ticks": ""
            },
            "type": "choropleth"
           }
          ],
          "contour": [
           {
            "colorbar": {
             "outlinewidth": 0,
             "ticks": ""
            },
            "colorscale": [
             [
              0,
              "#0d0887"
             ],
             [
              0.1111111111111111,
              "#46039f"
             ],
             [
              0.2222222222222222,
              "#7201a8"
             ],
             [
              0.3333333333333333,
              "#9c179e"
             ],
             [
              0.4444444444444444,
              "#bd3786"
             ],
             [
              0.5555555555555556,
              "#d8576b"
             ],
             [
              0.6666666666666666,
              "#ed7953"
             ],
             [
              0.7777777777777778,
              "#fb9f3a"
             ],
             [
              0.8888888888888888,
              "#fdca26"
             ],
             [
              1,
              "#f0f921"
             ]
            ],
            "type": "contour"
           }
          ],
          "contourcarpet": [
           {
            "colorbar": {
             "outlinewidth": 0,
             "ticks": ""
            },
            "type": "contourcarpet"
           }
          ],
          "heatmap": [
           {
            "colorbar": {
             "outlinewidth": 0,
             "ticks": ""
            },
            "colorscale": [
             [
              0,
              "#0d0887"
             ],
             [
              0.1111111111111111,
              "#46039f"
             ],
             [
              0.2222222222222222,
              "#7201a8"
             ],
             [
              0.3333333333333333,
              "#9c179e"
             ],
             [
              0.4444444444444444,
              "#bd3786"
             ],
             [
              0.5555555555555556,
              "#d8576b"
             ],
             [
              0.6666666666666666,
              "#ed7953"
             ],
             [
              0.7777777777777778,
              "#fb9f3a"
             ],
             [
              0.8888888888888888,
              "#fdca26"
             ],
             [
              1,
              "#f0f921"
             ]
            ],
            "type": "heatmap"
           }
          ],
          "heatmapgl": [
           {
            "colorbar": {
             "outlinewidth": 0,
             "ticks": ""
            },
            "colorscale": [
             [
              0,
              "#0d0887"
             ],
             [
              0.1111111111111111,
              "#46039f"
             ],
             [
              0.2222222222222222,
              "#7201a8"
             ],
             [
              0.3333333333333333,
              "#9c179e"
             ],
             [
              0.4444444444444444,
              "#bd3786"
             ],
             [
              0.5555555555555556,
              "#d8576b"
             ],
             [
              0.6666666666666666,
              "#ed7953"
             ],
             [
              0.7777777777777778,
              "#fb9f3a"
             ],
             [
              0.8888888888888888,
              "#fdca26"
             ],
             [
              1,
              "#f0f921"
             ]
            ],
            "type": "heatmapgl"
           }
          ],
          "histogram": [
           {
            "marker": {
             "pattern": {
              "fillmode": "overlay",
              "size": 10,
              "solidity": 0.2
             }
            },
            "type": "histogram"
           }
          ],
          "histogram2d": [
           {
            "colorbar": {
             "outlinewidth": 0,
             "ticks": ""
            },
            "colorscale": [
             [
              0,
              "#0d0887"
             ],
             [
              0.1111111111111111,
              "#46039f"
             ],
             [
              0.2222222222222222,
              "#7201a8"
             ],
             [
              0.3333333333333333,
              "#9c179e"
             ],
             [
              0.4444444444444444,
              "#bd3786"
             ],
             [
              0.5555555555555556,
              "#d8576b"
             ],
             [
              0.6666666666666666,
              "#ed7953"
             ],
             [
              0.7777777777777778,
              "#fb9f3a"
             ],
             [
              0.8888888888888888,
              "#fdca26"
             ],
             [
              1,
              "#f0f921"
             ]
            ],
            "type": "histogram2d"
           }
          ],
          "histogram2dcontour": [
           {
            "colorbar": {
             "outlinewidth": 0,
             "ticks": ""
            },
            "colorscale": [
             [
              0,
              "#0d0887"
             ],
             [
              0.1111111111111111,
              "#46039f"
             ],
             [
              0.2222222222222222,
              "#7201a8"
             ],
             [
              0.3333333333333333,
              "#9c179e"
             ],
             [
              0.4444444444444444,
              "#bd3786"
             ],
             [
              0.5555555555555556,
              "#d8576b"
             ],
             [
              0.6666666666666666,
              "#ed7953"
             ],
             [
              0.7777777777777778,
              "#fb9f3a"
             ],
             [
              0.8888888888888888,
              "#fdca26"
             ],
             [
              1,
              "#f0f921"
             ]
            ],
            "type": "histogram2dcontour"
           }
          ],
          "mesh3d": [
           {
            "colorbar": {
             "outlinewidth": 0,
             "ticks": ""
            },
            "type": "mesh3d"
           }
          ],
          "parcoords": [
           {
            "line": {
             "colorbar": {
              "outlinewidth": 0,
              "ticks": ""
             }
            },
            "type": "parcoords"
           }
          ],
          "pie": [
           {
            "automargin": true,
            "type": "pie"
           }
          ],
          "scatter": [
           {
            "fillpattern": {
             "fillmode": "overlay",
             "size": 10,
             "solidity": 0.2
            },
            "type": "scatter"
           }
          ],
          "scatter3d": [
           {
            "line": {
             "colorbar": {
              "outlinewidth": 0,
              "ticks": ""
             }
            },
            "marker": {
             "colorbar": {
              "outlinewidth": 0,
              "ticks": ""
             }
            },
            "type": "scatter3d"
           }
          ],
          "scattercarpet": [
           {
            "marker": {
             "colorbar": {
              "outlinewidth": 0,
              "ticks": ""
             }
            },
            "type": "scattercarpet"
           }
          ],
          "scattergeo": [
           {
            "marker": {
             "colorbar": {
              "outlinewidth": 0,
              "ticks": ""
             }
            },
            "type": "scattergeo"
           }
          ],
          "scattergl": [
           {
            "marker": {
             "colorbar": {
              "outlinewidth": 0,
              "ticks": ""
             }
            },
            "type": "scattergl"
           }
          ],
          "scattermapbox": [
           {
            "marker": {
             "colorbar": {
              "outlinewidth": 0,
              "ticks": ""
             }
            },
            "type": "scattermapbox"
           }
          ],
          "scatterpolar": [
           {
            "marker": {
             "colorbar": {
              "outlinewidth": 0,
              "ticks": ""
             }
            },
            "type": "scatterpolar"
           }
          ],
          "scatterpolargl": [
           {
            "marker": {
             "colorbar": {
              "outlinewidth": 0,
              "ticks": ""
             }
            },
            "type": "scatterpolargl"
           }
          ],
          "scatterternary": [
           {
            "marker": {
             "colorbar": {
              "outlinewidth": 0,
              "ticks": ""
             }
            },
            "type": "scatterternary"
           }
          ],
          "surface": [
           {
            "colorbar": {
             "outlinewidth": 0,
             "ticks": ""
            },
            "colorscale": [
             [
              0,
              "#0d0887"
             ],
             [
              0.1111111111111111,
              "#46039f"
             ],
             [
              0.2222222222222222,
              "#7201a8"
             ],
             [
              0.3333333333333333,
              "#9c179e"
             ],
             [
              0.4444444444444444,
              "#bd3786"
             ],
             [
              0.5555555555555556,
              "#d8576b"
             ],
             [
              0.6666666666666666,
              "#ed7953"
             ],
             [
              0.7777777777777778,
              "#fb9f3a"
             ],
             [
              0.8888888888888888,
              "#fdca26"
             ],
             [
              1,
              "#f0f921"
             ]
            ],
            "type": "surface"
           }
          ],
          "table": [
           {
            "cells": {
             "fill": {
              "color": "#EBF0F8"
             },
             "line": {
              "color": "white"
             }
            },
            "header": {
             "fill": {
              "color": "#C8D4E3"
             },
             "line": {
              "color": "white"
             }
            },
            "type": "table"
           }
          ]
         },
         "layout": {
          "annotationdefaults": {
           "arrowcolor": "#2a3f5f",
           "arrowhead": 0,
           "arrowwidth": 1
          },
          "autotypenumbers": "strict",
          "coloraxis": {
           "colorbar": {
            "outlinewidth": 0,
            "ticks": ""
           }
          },
          "colorscale": {
           "diverging": [
            [
             0,
             "#8e0152"
            ],
            [
             0.1,
             "#c51b7d"
            ],
            [
             0.2,
             "#de77ae"
            ],
            [
             0.3,
             "#f1b6da"
            ],
            [
             0.4,
             "#fde0ef"
            ],
            [
             0.5,
             "#f7f7f7"
            ],
            [
             0.6,
             "#e6f5d0"
            ],
            [
             0.7,
             "#b8e186"
            ],
            [
             0.8,
             "#7fbc41"
            ],
            [
             0.9,
             "#4d9221"
            ],
            [
             1,
             "#276419"
            ]
           ],
           "sequential": [
            [
             0,
             "#0d0887"
            ],
            [
             0.1111111111111111,
             "#46039f"
            ],
            [
             0.2222222222222222,
             "#7201a8"
            ],
            [
             0.3333333333333333,
             "#9c179e"
            ],
            [
             0.4444444444444444,
             "#bd3786"
            ],
            [
             0.5555555555555556,
             "#d8576b"
            ],
            [
             0.6666666666666666,
             "#ed7953"
            ],
            [
             0.7777777777777778,
             "#fb9f3a"
            ],
            [
             0.8888888888888888,
             "#fdca26"
            ],
            [
             1,
             "#f0f921"
            ]
           ],
           "sequentialminus": [
            [
             0,
             "#0d0887"
            ],
            [
             0.1111111111111111,
             "#46039f"
            ],
            [
             0.2222222222222222,
             "#7201a8"
            ],
            [
             0.3333333333333333,
             "#9c179e"
            ],
            [
             0.4444444444444444,
             "#bd3786"
            ],
            [
             0.5555555555555556,
             "#d8576b"
            ],
            [
             0.6666666666666666,
             "#ed7953"
            ],
            [
             0.7777777777777778,
             "#fb9f3a"
            ],
            [
             0.8888888888888888,
             "#fdca26"
            ],
            [
             1,
             "#f0f921"
            ]
           ]
          },
          "colorway": [
           "#636efa",
           "#EF553B",
           "#00cc96",
           "#ab63fa",
           "#FFA15A",
           "#19d3f3",
           "#FF6692",
           "#B6E880",
           "#FF97FF",
           "#FECB52"
          ],
          "font": {
           "color": "#2a3f5f"
          },
          "geo": {
           "bgcolor": "white",
           "lakecolor": "white",
           "landcolor": "#E5ECF6",
           "showlakes": true,
           "showland": true,
           "subunitcolor": "white"
          },
          "hoverlabel": {
           "align": "left"
          },
          "hovermode": "closest",
          "mapbox": {
           "style": "light"
          },
          "paper_bgcolor": "white",
          "plot_bgcolor": "#E5ECF6",
          "polar": {
           "angularaxis": {
            "gridcolor": "white",
            "linecolor": "white",
            "ticks": ""
           },
           "bgcolor": "#E5ECF6",
           "radialaxis": {
            "gridcolor": "white",
            "linecolor": "white",
            "ticks": ""
           }
          },
          "scene": {
           "xaxis": {
            "backgroundcolor": "#E5ECF6",
            "gridcolor": "white",
            "gridwidth": 2,
            "linecolor": "white",
            "showbackground": true,
            "ticks": "",
            "zerolinecolor": "white"
           },
           "yaxis": {
            "backgroundcolor": "#E5ECF6",
            "gridcolor": "white",
            "gridwidth": 2,
            "linecolor": "white",
            "showbackground": true,
            "ticks": "",
            "zerolinecolor": "white"
           },
           "zaxis": {
            "backgroundcolor": "#E5ECF6",
            "gridcolor": "white",
            "gridwidth": 2,
            "linecolor": "white",
            "showbackground": true,
            "ticks": "",
            "zerolinecolor": "white"
           }
          },
          "shapedefaults": {
           "line": {
            "color": "#2a3f5f"
           }
          },
          "ternary": {
           "aaxis": {
            "gridcolor": "white",
            "linecolor": "white",
            "ticks": ""
           },
           "baxis": {
            "gridcolor": "white",
            "linecolor": "white",
            "ticks": ""
           },
           "bgcolor": "#E5ECF6",
           "caxis": {
            "gridcolor": "white",
            "linecolor": "white",
            "ticks": ""
           }
          },
          "title": {
           "x": 0.05
          },
          "xaxis": {
           "automargin": true,
           "gridcolor": "white",
           "linecolor": "white",
           "ticks": "",
           "title": {
            "standoff": 15
           },
           "zerolinecolor": "white",
           "zerolinewidth": 2
          },
          "yaxis": {
           "automargin": true,
           "gridcolor": "white",
           "linecolor": "white",
           "ticks": "",
           "title": {
            "standoff": 15
           },
           "zerolinecolor": "white",
           "zerolinewidth": 2
          }
         }
        },
        "title": {
         "text": "Treemap Chart: Korean Drama Viewer Count, Ratings, and Genres"
        }
       }
      }
     },
     "metadata": {},
     "output_type": "display_data"
    }
   ],
   "source": [
    "# Membuat treemap untuk menggambarkan hubungan antara genre K-Drama dengan jumlah penonton dan rating-nya\n",
    "\n",
    "# Membuat tabel rata-rata rating dan jumlah penonton K-Drama berdasarkan genre\n",
    "avg = df_1nf.groupby('genres')[['tot_user_score','tot_watched']].mean().reset_index()\n",
    "\n",
    "# Membuat treemap berdasarkan rata-rata rating dan jumlah penonton K-Drama dari setiap genre\n",
    "fig = px.treemap(avg, \n",
    "                 path=['genres'],  # Buat level berdasarkan genre\n",
    "                 values=avg_watch['tot_watched'],  # Buat besar tiap kotak berdasarkan jumlah penonton\n",
    "                 color=avg_rating['tot_user_score'])  # Buat skala warna berdasarkan rating user\n",
    "\n",
    "# Memberikan judul diagram treemap\n",
    "fig.update_layout(\n",
    "    title='Treemap Chart: Korean Drama Viewer Count, Ratings, and Genres',\n",
    "    margin=dict(l=0, r=0, b=0, t=30),  # Adjust the margins\n",
    ")\n",
    "\n",
    "# Tampilkan diagram treemap\n",
    "fig.show()"
   ]
  },
  {
   "cell_type": "markdown",
   "metadata": {},
   "source": [
    "Dari diagram treemap antara genre, rating, dan jumlah penonton K-Drama, dapat dilihat bahwa dalam dataset ini genre military memiliki rata-rata jumlah penonton yang paling banyak dan rata-rata rating yang cukup tinggi, diikuti oleh genre psychological dan genre action. Perlu diingat bahwa ketiga genre ini memiliki jumlah kurang dari 200 judul di dalam dataset ini, sehingga rata-rata rating yang diberikan bisa jadi bias/polarized dan penonton terpusat hanya menonton beberapa judul saja.\n",
    "\n",
    "Sementara genre yang memiliki banyak judul seperti genre romance, comedy, dan drama memiliki rata-rata jumlah penonton yang lebih sedikit dikarenakan banyaknya pilihan drama yang bisa ditonton oleh tiap user/penonton, sehingga rating yang diberikan juga lebih beragam tergantung dari judul yang ditonton."
   ]
  },
  {
   "cell_type": "markdown",
   "metadata": {},
   "source": [
    "#### Correlation between Korean Ratings and Viewer Count"
   ]
  },
  {
   "cell_type": "code",
   "execution_count": 120,
   "metadata": {},
   "outputs": [
    {
     "data": {
      "image/png": "[encoded data removed]",
      "text/plain": [
       "<Figure size 500x500 with 1 Axes>"
      ]
     },
     "metadata": {},
     "output_type": "display_data"
    }
   ],
   "source": [
    "# Membuat scatter plot dari korelasi antara rating K-Drama dengan jumlah penontonnya\n",
    "corr = sns.lmplot(data=df,x='tot_user_score', y='tot_watched')\n",
    "\n",
    "# Menghitung koefisien korelasi Spearman dan p-value\n",
    "corr_rho, pval_s = stats.spearmanr(df['tot_user_score'], df['tot_watched'])\n",
    "\n",
    "# Memberikan keterangan koefisien korelasi dan p-value dalam diagram\n",
    "plt.text(x=3.5,y= 240000,s=f'rho-correlation = {corr_rho.__round__(2)} ')\n",
    "plt.text(x=3.5,y= 230000,s=f'p-value = {pval_s} ')\n",
    "\n",
    "# Memberi judul sumbu x\n",
    "plt.xlabel('Ratings')\n",
    "\n",
    "# Memberi judul sumbu y\n",
    "plt.ylabel('Viewer Count')\n",
    "\n",
    "# Menyesuaikan skala sumbu y\n",
    "corr.set(ylim = (-5000,250000))\n",
    "\n",
    "# Memberikan judul diagram\n",
    "plt.title('Ratings and Viewer Count Correlation')\n",
    "\n",
    "# Menampilkan diagram\n",
    "plt.show()"
   ]
  },
  {
   "cell_type": "markdown",
   "metadata": {},
   "source": [
    "Dari scatter plot di atas dan koefisien korelasi antara rating K-Drama dengan jumlah penontonnya, dapat dilihat bahwa semakin tinggi rating dari suatu K-Drama maka semakin banyak jumlah penonton drama tersebut, begitu juga sebaliknya. Selain itu, dilihat dari p-value yang kurang dari 0.05 (0.00 < 0.05), maka rating dan jumlah penonton dari suatu K-Drama memiliki korelasi yang signifikan. "
   ]
  },
  {
   "cell_type": "markdown",
   "metadata": {},
   "source": [
    "### ANOVA Test: Korean Dramas' Ratings and Viewer Count by Genre(s)"
   ]
  },
  {
   "cell_type": "markdown",
   "metadata": {},
   "source": [
    "#### ANOVA Test for Korean Dramas' Ratings by Genre(s)\n",
    "\n",
    "Untuk mengetahui apakah ada perbedaan rata-rata rating yang signifikan antara setiap genre K-Drama, digunakan Analysis of Variance (ANOVA) di mana tes ini akan menguji perbedaan variance antar grup atau di dalam suatu grup, dalam konteks ini adalah rata-rata rating K-Drama berdasarkan genre. Hipotesis dari pengujian ANOVA ini adalah:\n",
    "\n",
    "H0: Tidak ada perbedaan signifikan antara rata-rata rating K-Drama setiap genre\n",
    "\n",
    "H1: Ada perbedaan rata-rata rating K-Drama yang signifikan minimal pada satu genre"
   ]
  },
  {
   "cell_type": "code",
   "execution_count": 92,
   "metadata": {},
   "outputs": [
    {
     "name": "stdout",
     "output_type": "stream",
     "text": [
      "P-value Korean Drama Rating: 8.027830470592302e-79\n"
     ]
    }
   ],
   "source": [
    "# Mencari perbedaan antara rating suatu K-Drama menurut tiap genre menggunakan metode ANOVA\n",
    "\n",
    "# Mencari rata-rata rating K-Drama dari setiap genre dan ditampung dalam satu list\n",
    "average_rating = []\n",
    "for genre in df_1nf['genres'].unique():\n",
    "    rating = df_1nf['tot_user_score'][df_1nf['genres']==genre]\n",
    "    average_rating.append(rating)\n",
    "\n",
    "# Menghitung p-value berdasarkan list rata-rata rating K-Drama yang sudah dibuat\n",
    "res_rating = stats.f_oneway(*average_rating)\n",
    "print('P-value Korean Drama Rating:',res_rating.pvalue)"
   ]
  },
  {
   "cell_type": "markdown",
   "metadata": {},
   "source": [
    "Hasil ANOVA test dari rata-rata rating suatu K-Drama berdasarkan setiap genre, didapatkan p-value kurang dari 0.05 (8.03e-79 < 0.05). Hal ini menandakan bahwa H0 ditolak atau H1 diterima, sehingga terbukti bahwa ada minimal satu genre K-Drama yang memiliki perbedaan rata-rata rating yang signifikan dibandingkan dengan genre lainnya.\n",
    "\n",
    "Perbedaan dari rata-rata rating K-Drama berdasarkan genre-nya sudah digambarkan dengan box plot yang sudah dianalisa pada bagian sebelumnya."
   ]
  },
  {
   "cell_type": "markdown",
   "metadata": {},
   "source": [
    "#### ANOVA Test for Korean Dramas' Viewer Count by Genre(s)\n",
    "\n",
    "Untuk mengetahui apakah ada perbedaan rata-rata jumlah penonton yang signifikan antara setiap genre K-Drama, digunakan Analysis of Variance (ANOVA) di mana tes ini akan menguji perbedaan variance antar grup atau di dalam suatu grup, dalam konteks ini adalah rata-rata jumlah penonton K-Drama berdasarkan genre. Hipotesis dari pengujian ANOVA ini adalah:\n",
    "\n",
    "H0: Tidak ada perbedaan signifikan antara rata-rata jumlah penonton suatu K-Drama berdasarkan tiap genre\n",
    "\n",
    "H1: Ada perbedaan rata-rata jumlah penonton K-Drama yang signifikan minimal pada satu genre"
   ]
  },
  {
   "cell_type": "code",
   "execution_count": 93,
   "metadata": {},
   "outputs": [
    {
     "name": "stdout",
     "output_type": "stream",
     "text": [
      "P-value Korean Drama Viewers: 1.9196619437216344e-20\n"
     ]
    }
   ],
   "source": [
    "# Mencari perbedaan antara jumlah penonton suatu K-Drama menurut tiap genre menggunakan metode ANOVA\n",
    "\n",
    "# Mencari rata-rata jumlah penonton dari setiap genre dan ditampung dalam satu list\n",
    "average_viewers = []\n",
    "for genre in df_1nf['genres'].unique():\n",
    "    viewer = df_1nf['tot_watched'][df_1nf['genres']==genre]\n",
    "    average_viewers.append(viewer)\n",
    "\n",
    "# Menghitung p-value berdasarkan list rata-rata rating yang sudah dibuat\n",
    "res_viewer = stats.f_oneway(*average_viewers)\n",
    "print('P-value Korean Drama Viewers:',res_viewer.pvalue)"
   ]
  },
  {
   "cell_type": "markdown",
   "metadata": {},
   "source": [
    "Hasil ANOVA test dari rata-rata jumlah penonton suatu K-Drama berdasarkan genre-nya, didapatkan p-value kurang dari 0.05 (1.92e-20 < 0.05). Hal ini menandakan bahwa H0 ditolak atau H1 diterima, sehingga terbukti bahwa ada minimal satu genre K-Drama yang memiliki perbedaan rata-rata jumlah penonton yang signifikan dibandingkan dengan genre lainnya.\n",
    "\n",
    "Untuk menggambarkan perbedaan rata-rata jumlah penonton K-Drama berdasarkan genre-nya, dapat digunakan diagram box plot."
   ]
  },
  {
   "cell_type": "code",
   "execution_count": 8,
   "metadata": {},
   "outputs": [
    {
     "data": {
      "image/png": "[encoded data removed]",
      "text/plain": [
       "<Figure size 1000x600 with 1 Axes>"
      ]
     },
     "metadata": {},
     "output_type": "display_data"
    }
   ],
   "source": [
    "# Membuat box chart dari rata-rata jumlah penonton berdasarkan genre K-Drama\n",
    "plt.figure(figsize=(10, 6))\n",
    "plt.boxplot([df[df_1nf['genres'] == genre]['tot_watched'] for genre in avg_watch['genres']], \n",
    "            labels=avg_watch['genres'])\n",
    "\n",
    "# Memberi judul diagram\n",
    "plt.title('Box Plot of Average Viewer Count by Korean Drama Genre')\n",
    "\n",
    "# Memberi judul sumbu x dan menyesuaikan peletakkan value-nya agar lebih mudah dibaca\n",
    "plt.xlabel('Genre')\n",
    "plt.xticks(rotation=90)\n",
    "\n",
    "# Memberi judul sumbu y\n",
    "plt.ylabel('Average Viewer Count')\n",
    "\n",
    "# Menampilkan diagram\n",
    "plt.show()"
   ]
  },
  {
   "cell_type": "markdown",
   "metadata": {},
   "source": [
    "## Conclusion\n",
    "\n",
    "Dari hasil analisa data genre, rating, dan jumlah penonton suatu K-Drama yang berasal dari web MyDramaList, diketahui bahwa genre military, psychological, dan action merupakan genre K-Drama yang memiliki rata-rata penonton yang banyak dan rata-rata rating yang bagus di web MyDramaList. Selain itu terdapat perbedaan yang signifikan pada rata-rata rating minimal pada salah satu genre dari K-Drama, begitu pula pada rata-rata jumlah penonton terdapat minimal satu genre K-Drama yang memiliki perbedaan yang signifikan dibandingkan genre lainnya. Sehingga penting bagi OTT untuk memperhatikan genre K-Drama apa yang akan ditayangkan pada platorm mereka.\n",
    "\n",
    "Selain itu, diketahui bahwa antara rating dari suatu K-Drama dengan jumlah penontonnya memiliki korelasi yang positif dan signifikan memengaruhi satu sama lain, di mana jika rating suatu K-Drama meningkat maka jumlah penontonnya juga akan meningkat, begitu pula sebaliknya. Hal ini menandakan pentingnya memilih K-Drama apa yang akan ditambahkan ke dalam katalog suatu OTT karena K-Drama dengan rating yang baik akan mendatangkan banyak penonton bagi OTT tersebut.\n",
    "\n",
    "Namun terdapat keterbatasan dari project ini di mana jumlah K-Drama pada setiap genre memiliki jumlah yang tidak seimbang begitu pula dengan distribusi jumlah penonton K-Drama berdasarkan genre yang tidak terdistribusi secara merata atau secara normal. Hal ini menyebabkan analisa dari genre tertentu dapat memiliki bias dibandingkan dengan genre lainnya."
   ]
  }
 ],
 "metadata": {
  "kernelspec": {
   "display_name": "base",
   "language": "python",
   "name": "python3"
  },
  "language_info": {
   "codemirror_mode": {
    "name": "ipython",
    "version": 3
   },
   "file_extension": ".py",
   "mimetype": "text/x-python",
   "name": "python",
   "nbconvert_exporter": "python",
   "pygments_lexer": "ipython3",
   "version": "3.11.4"
  }
 },
 "nbformat": 4,
 "nbformat_minor": 2
}
